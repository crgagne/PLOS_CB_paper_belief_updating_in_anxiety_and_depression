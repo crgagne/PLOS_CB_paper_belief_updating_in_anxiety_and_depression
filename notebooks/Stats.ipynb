{
 "cells": [
  {
   "cell_type": "code",
   "execution_count": 4,
   "id": "4b454eca",
   "metadata": {},
   "outputs": [],
   "source": [
    "import glob\n",
    "import pandas as pd\n",
    "import sys\n",
    "import numpy as np\n",
    "import pickle\n",
    "import imp\n",
    "from scipy.stats import pearsonr,spearmanr,ttest_1samp,ttest_rel,ttest_ind, binom_test,median_test,beta\n",
    "import statsmodels.api as sm\n",
    "\n",
    "import matplotlib \n",
    "import matplotlib.pyplot as plt\n",
    "import seaborn as sns\n",
    "from pylab import Rectangle\n",
    "%matplotlib inline"
   ]
  },
  {
   "cell_type": "code",
   "execution_count": 5,
   "id": "cd16cdfd",
   "metadata": {},
   "outputs": [],
   "source": [
    "sys.path.append('../code_for_data_processing/')\n",
    "sys.path.append('../code_for_model_fitting/')\n",
    "sys.path.append('../code_mscl/')\n",
    "\n",
    "import participants\n",
    "imp.reload(participants)\n",
    "from participants import get_all_participants_df\n",
    "\n",
    "import loading_models\n",
    "imp.reload(loading_models)\n",
    "from loading_models import get_model_fit_data\n",
    "\n",
    "import renaming\n",
    "imp.reload(renaming)\n",
    "from renaming import name_replace_clinical, name_replace_stat\n",
    "\n",
    "import model_utils\n",
    "imp.reload(model_utils)\n",
    "from model_utils import generate_data_from_model"
   ]
  },
  {
   "cell_type": "code",
   "execution_count": 6,
   "id": "4f5fa62f",
   "metadata": {},
   "outputs": [],
   "source": [
    "plt.rcParams.update({'font.size': 11})\n",
    "plt.rcParams.update({'font.family': 'normal'})\n",
    "labelsize =10\n",
    "ticklabelsize=8\n",
    "legendsize=8"
   ]
  },
  {
   "cell_type": "markdown",
   "id": "e2905538",
   "metadata": {},
   "source": [
    "## Get Data"
   ]
  },
  {
   "cell_type": "code",
   "execution_count": 7,
   "id": "eb3d6ee4",
   "metadata": {},
   "outputs": [],
   "source": [
    "MIDs_w_session3_data, df = get_all_participants_df(exclude=True)"
   ]
  },
  {
   "cell_type": "code",
   "execution_count": 8,
   "id": "d8300bfb",
   "metadata": {},
   "outputs": [
    {
     "name": "stderr",
     "output_type": "stream",
     "text": [
      "../code_for_model_fitting/loading_models.py:33: FutureWarning: pandas.core.index is deprecated and will be removed in a future version.  The public classes are available in the top-level namespace.\n",
      "  fit = pickle.load( open(modelfits_folder+suffix1+\\\n"
     ]
    }
   ],
   "source": [
    "modelname ='model_RW_update_w_report_samelr_relfbscaling'\n",
    "model_fits_df_self, params_self = get_model_fit_data(modelname, df, selfother='self')\n",
    "model_fits_df_other ,params_other = get_model_fit_data(modelname, df, selfother='other')"
   ]
  },
  {
   "cell_type": "markdown",
   "id": "e0a50a68",
   "metadata": {},
   "source": [
    "## Model-Based Analysis"
   ]
  },
  {
   "cell_type": "markdown",
   "id": "44e8d197",
   "metadata": {},
   "source": [
    "### Prior Mean Parameter (mu0)"
   ]
  },
  {
   "cell_type": "markdown",
   "id": "91669969",
   "metadata": {},
   "source": [
    "#### mu0 against 50%; t-test "
   ]
  },
  {
   "cell_type": "code",
   "execution_count": 9,
   "id": "c0b8262f",
   "metadata": {},
   "outputs": [
    {
     "name": "stdout",
     "output_type": "stream",
     "text": [
      "0.49841448351979434\n",
      "0.5508018615410876\n"
     ]
    }
   ],
   "source": [
    "mu0_self = model_fits_df_self['u_u0'].values\n",
    "mu0_other = model_fits_df_other['u_u0'].values\n",
    "\n",
    "print(mu0_self.mean())\n",
    "print(mu0_other.mean())"
   ]
  },
  {
   "cell_type": "code",
   "execution_count": 10,
   "id": "e5e14989",
   "metadata": {},
   "outputs": [
    {
     "name": "stdout",
     "output_type": "stream",
     "text": [
      "Ttest_1sampResult(statistic=-0.06531027653023713, pvalue=0.9481274149907747) 3\n",
      "Ttest_1sampResult(statistic=3.0937404879398938, pvalue=0.0029128700687789896) 3\n"
     ]
    }
   ],
   "source": [
    "print(ttest_1samp(mu0_self,0.5),3)\n",
    "print(ttest_1samp(mu0_other,0.5),3)"
   ]
  },
  {
   "cell_type": "code",
   "execution_count": 11,
   "id": "8667aafd",
   "metadata": {},
   "outputs": [
    {
     "data": {
      "text/plain": [
       "Ttest_relResult(statistic=-2.029283879743809, pvalue=0.0465281368692308)"
      ]
     },
     "execution_count": 11,
     "metadata": {},
     "output_type": "execute_result"
    }
   ],
   "source": [
    "ttest_rel(mu0_self,mu0_other)"
   ]
  },
  {
   "cell_type": "markdown",
   "id": "1c17b7f9",
   "metadata": {},
   "source": [
    "#### mu0 and framing "
   ]
  },
  {
   "cell_type": "code",
   "execution_count": 12,
   "id": "8281c14e",
   "metadata": {},
   "outputs": [],
   "source": [
    "cb = np.array(df['session3_cb'])"
   ]
  },
  {
   "cell_type": "code",
   "execution_count": 13,
   "id": "61218d59",
   "metadata": {},
   "outputs": [
    {
     "data": {
      "text/plain": [
       "Ttest_indResult(statistic=0.012143213985001093, pvalue=0.9903491297730302)"
      ]
     },
     "execution_count": 13,
     "metadata": {},
     "output_type": "execute_result"
    }
   ],
   "source": [
    "ttest_ind(mu0_self[cb==0],mu0_self[cb==1])"
   ]
  },
  {
   "cell_type": "code",
   "execution_count": 14,
   "id": "8fe13469",
   "metadata": {},
   "outputs": [
    {
     "data": {
      "text/plain": [
       "Ttest_indResult(statistic=0.8200361986609151, pvalue=0.4152391518562968)"
      ]
     },
     "execution_count": 14,
     "metadata": {},
     "output_type": "execute_result"
    }
   ],
   "source": [
    "ttest_ind(mu0_other[cb==0],mu0_other[cb==1])"
   ]
  },
  {
   "cell_type": "markdown",
   "id": "14a55c2a",
   "metadata": {},
   "source": [
    "#### mu0, traits, and framing"
   ]
  },
  {
   "cell_type": "code",
   "execution_count": 15,
   "id": "0a2d8906",
   "metadata": {},
   "outputs": [
    {
     "name": "stdout",
     "output_type": "stream",
     "text": [
      "                            OLS Regression Results                            \n",
      "==============================================================================\n",
      "Dep. Variable:                   u_u0   R-squared:                       0.112\n",
      "Model:                            OLS   Adj. R-squared:                  0.069\n",
      "Method:                 Least Squares   F-statistic:                     2.596\n",
      "Date:                Mon, 09 May 2022   Prob (F-statistic):             0.0603\n",
      "Time:                        12:45:21   Log-Likelihood:                 17.904\n",
      "No. Observations:                  66   AIC:                            -27.81\n",
      "Df Residuals:                      62   BIC:                            -19.05\n",
      "Df Model:                           3                                         \n",
      "Covariance Type:            nonrobust                                         \n",
      "==============================================================================\n",
      "                 coef    std err          t      P>|t|      [0.025      0.975]\n",
      "------------------------------------------------------------------------------\n",
      "const          0.4984      0.034     14.811      0.000       0.431       0.566\n",
      "x1            -0.0611      0.044     -1.396      0.168      -0.149       0.026\n",
      "x2             0.0001      0.047      0.003      0.998      -0.094       0.094\n",
      "x3            -0.0066      0.052     -0.127      0.899      -0.111       0.097\n",
      "==============================================================================\n",
      "Omnibus:                        1.004   Durbin-Watson:                   2.047\n",
      "Prob(Omnibus):                  0.605   Jarque-Bera (JB):                1.044\n",
      "Skew:                          -0.190   Prob(JB):                        0.593\n",
      "Kurtosis:                       2.514   Cond. No.                         3.48\n",
      "==============================================================================\n",
      "\n",
      "Notes:\n",
      "[1] Standard Errors assume that the covariance matrix of the errors is correctly specified.\n",
      "                            OLS Regression Results                            \n",
      "==============================================================================\n",
      "Dep. Variable:                   u_u0   R-squared:                       0.006\n",
      "Model:                            OLS   Adj. R-squared:                 -0.042\n",
      "Method:                 Least Squares   F-statistic:                    0.1173\n",
      "Date:                Mon, 09 May 2022   Prob (F-statistic):              0.950\n",
      "Time:                        12:45:21   Log-Likelihood:                 14.186\n",
      "No. Observations:                  66   AIC:                            -20.37\n",
      "Df Residuals:                      62   BIC:                            -11.61\n",
      "Df Model:                           3                                         \n",
      "Covariance Type:            nonrobust                                         \n",
      "==============================================================================\n",
      "                 coef    std err          t      P>|t|      [0.025      0.975]\n",
      "------------------------------------------------------------------------------\n",
      "const          0.4982      0.036     13.992      0.000       0.427       0.569\n",
      "x1            -0.0199      0.035     -0.560      0.577      -0.091       0.051\n",
      "x2           6.29e-05      0.050      0.001      0.999      -0.099       0.099\n",
      "x3             0.0131      0.050      0.262      0.794      -0.087       0.113\n",
      "==============================================================================\n",
      "Omnibus:                        4.263   Durbin-Watson:                   1.931\n",
      "Prob(Omnibus):                  0.119   Jarque-Bera (JB):                2.376\n",
      "Skew:                          -0.218   Prob(JB):                        0.305\n",
      "Kurtosis:                       2.179   Cond. No.                         2.68\n",
      "==============================================================================\n",
      "\n",
      "Notes:\n",
      "[1] Standard Errors assume that the covariance matrix of the errors is correctly specified.\n",
      "                            OLS Regression Results                            \n",
      "==============================================================================\n",
      "Dep. Variable:                   u_u0   R-squared:                       0.005\n",
      "Model:                            OLS   Adj. R-squared:                 -0.043\n",
      "Method:                 Least Squares   F-statistic:                    0.1023\n",
      "Date:                Mon, 09 May 2022   Prob (F-statistic):              0.958\n",
      "Time:                        12:45:21   Log-Likelihood:                 14.162\n",
      "No. Observations:                  66   AIC:                            -20.32\n",
      "Df Residuals:                      62   BIC:                            -11.57\n",
      "Df Model:                           3                                         \n",
      "Covariance Type:            nonrobust                                         \n",
      "==============================================================================\n",
      "                 coef    std err          t      P>|t|      [0.025      0.975]\n",
      "------------------------------------------------------------------------------\n",
      "const          0.4933      0.037     13.363      0.000       0.420       0.567\n",
      "x1             0.0214      0.039      0.554      0.582      -0.056       0.099\n",
      "x2             0.0049      0.051      0.096      0.923      -0.097       0.107\n",
      "x3            -0.0208      0.052     -0.402      0.689      -0.125       0.083\n",
      "==============================================================================\n",
      "Omnibus:                        3.200   Durbin-Watson:                   1.890\n",
      "Prob(Omnibus):                  0.202   Jarque-Bera (JB):                2.017\n",
      "Skew:                          -0.203   Prob(JB):                        0.365\n",
      "Kurtosis:                       2.246   Cond. No.                         3.18\n",
      "==============================================================================\n",
      "\n",
      "Notes:\n",
      "[1] Standard Errors assume that the covariance matrix of the errors is correctly specified.\n"
     ]
    }
   ],
   "source": [
    "starting = model_fits_df_self['u_u0']\n",
    "depression = model_fits_df_self['item_clinical.fa.omega3.anh']\n",
    "framing_cb = model_fits_df_self['session3_cb']\n",
    "\n",
    "for trait_name in ['item_clinical.fa.omega3.anh','item_clinical.fa.omega3.cog_anx','item_clinical.fa.omega3.g']:\n",
    "    trait = model_fits_df_self[trait_name]\n",
    "    X = sm.add_constant(np.vstack((trait,framing_cb,trait*framing_cb)).T)\n",
    "    results = sm.OLS(starting,X).fit()\n",
    "    print(results.summary())"
   ]
  },
  {
   "cell_type": "markdown",
   "id": "642dcfcd",
   "metadata": {},
   "source": [
    "#### mu0 self - mu0 other, depression"
   ]
  },
  {
   "cell_type": "code",
   "execution_count": 16,
   "id": "dff5c5be",
   "metadata": {},
   "outputs": [
    {
     "data": {
      "text/plain": [
       "(-0.1691240933288506, 0.17461588585922638)"
      ]
     },
     "execution_count": 16,
     "metadata": {},
     "output_type": "execute_result"
    }
   ],
   "source": [
    "depression = model_fits_df_self['item_clinical.fa.omega3.anh']\n",
    "pearsonr((mu0_self-mu0_other),depression)"
   ]
  },
  {
   "cell_type": "markdown",
   "id": "a1c73379",
   "metadata": {},
   "source": [
    "### Bias Parameter (b)"
   ]
  },
  {
   "cell_type": "markdown",
   "id": "b6fefb6f",
   "metadata": {},
   "source": [
    "#### bias; t-test"
   ]
  },
  {
   "cell_type": "code",
   "execution_count": 17,
   "id": "8e89d19b",
   "metadata": {},
   "outputs": [],
   "source": [
    "bias_self = model_fits_df_self['r_pos'].values\n",
    "bias_other = model_fits_df_other['r_pos'].values"
   ]
  },
  {
   "cell_type": "code",
   "execution_count": 18,
   "id": "779f396c",
   "metadata": {},
   "outputs": [
    {
     "name": "stdout",
     "output_type": "stream",
     "text": [
      "1.0030158140225398\n",
      "1.1681860780531608\n"
     ]
    }
   ],
   "source": [
    "print(bias_self.mean())\n",
    "print(bias_other.mean())"
   ]
  },
  {
   "cell_type": "code",
   "execution_count": 19,
   "id": "01084ac8",
   "metadata": {},
   "outputs": [
    {
     "name": "stdout",
     "output_type": "stream",
     "text": [
      "0.4439683274260644\n"
     ]
    }
   ],
   "source": [
    "print(bias_self.std())"
   ]
  },
  {
   "cell_type": "code",
   "execution_count": 20,
   "id": "043a4517",
   "metadata": {},
   "outputs": [
    {
     "name": "stdout",
     "output_type": "stream",
     "text": [
      "Ttest_1sampResult(statistic=0.05476577599941097, pvalue=0.9564930517006203)\n",
      "Ttest_1sampResult(statistic=2.723235236599438, pvalue=0.008292064231606748)\n"
     ]
    }
   ],
   "source": [
    "print(ttest_1samp(bias_self,1))\n",
    "print(ttest_1samp(bias_other,1))"
   ]
  },
  {
   "cell_type": "code",
   "execution_count": 21,
   "id": "c70044c3",
   "metadata": {},
   "outputs": [
    {
     "data": {
      "text/plain": [
       "Ttest_relResult(statistic=-2.42983138340956, pvalue=0.017877030476935236)"
      ]
     },
     "execution_count": 21,
     "metadata": {},
     "output_type": "execute_result"
    }
   ],
   "source": [
    "ttest_rel(bias_self,bias_other)"
   ]
  },
  {
   "cell_type": "markdown",
   "id": "6829470b",
   "metadata": {},
   "source": [
    "#### bias and feedback order"
   ]
  },
  {
   "cell_type": "code",
   "execution_count": 22,
   "id": "a5855639",
   "metadata": {},
   "outputs": [],
   "source": [
    "feedback_cb = df['self_feedback_cb']"
   ]
  },
  {
   "cell_type": "code",
   "execution_count": 23,
   "id": "07498d5d",
   "metadata": {},
   "outputs": [
    {
     "data": {
      "text/plain": [
       "Ttest_indResult(statistic=-4.485022258152416, pvalue=3.094890860924e-05)"
      ]
     },
     "execution_count": 23,
     "metadata": {},
     "output_type": "execute_result"
    }
   ],
   "source": [
    "ttest_ind(bias_self[feedback_cb==0],bias_self[feedback_cb==1])"
   ]
  },
  {
   "cell_type": "code",
   "execution_count": 24,
   "id": "b6765812",
   "metadata": {},
   "outputs": [
    {
     "data": {
      "text/plain": [
       "Ttest_indResult(statistic=-1.6256522347135396, pvalue=0.10893835877393054)"
      ]
     },
     "execution_count": 24,
     "metadata": {},
     "output_type": "execute_result"
    }
   ],
   "source": [
    "ttest_ind(bias_other[feedback_cb==0],bias_other[feedback_cb==1])"
   ]
  },
  {
   "cell_type": "markdown",
   "id": "790ad357",
   "metadata": {},
   "source": [
    "#### bias and traits, self-other"
   ]
  },
  {
   "cell_type": "code",
   "execution_count": 25,
   "id": "76627618",
   "metadata": {},
   "outputs": [
    {
     "name": "stdout",
     "output_type": "stream",
     "text": [
      "(-0.06871773396778752, 0.5835218429336705)\n",
      "(-0.20423400357055949, 0.09999221393277466)\n",
      "(0.14871320879329947, 0.2333756887854347)\n"
     ]
    }
   ],
   "source": [
    "for trait_name in ['item_clinical.fa.omega3.anh','item_clinical.fa.omega3.cog_anx','item_clinical.fa.omega3.g']:\n",
    "    trait = model_fits_df_self[trait_name]\n",
    "    print(pearsonr((bias_self-bias_other),trait))"
   ]
  },
  {
   "cell_type": "markdown",
   "id": "915bf989",
   "metadata": {},
   "source": [
    "#### bias, traits, and feedback order"
   ]
  },
  {
   "cell_type": "code",
   "execution_count": 26,
   "id": "4c9c530b",
   "metadata": {},
   "outputs": [
    {
     "name": "stdout",
     "output_type": "stream",
     "text": [
      "                            OLS Regression Results                            \n",
      "==============================================================================\n",
      "Dep. Variable:                  r_pos   R-squared:                       0.287\n",
      "Model:                            OLS   Adj. R-squared:                  0.252\n",
      "Method:                 Least Squares   F-statistic:                     8.306\n",
      "Date:                Mon, 09 May 2022   Prob (F-statistic):           0.000100\n",
      "Time:                        12:45:44   Log-Likelihood:                -28.910\n",
      "No. Observations:                  66   AIC:                             65.82\n",
      "Df Residuals:                      62   BIC:                             74.58\n",
      "Df Model:                           3                                         \n",
      "Covariance Type:            nonrobust                                         \n",
      "==============================================================================\n",
      "                 coef    std err          t      P>|t|      [0.025      0.975]\n",
      "------------------------------------------------------------------------------\n",
      "const          0.8148      0.062     13.239      0.000       0.692       0.938\n",
      "x1            -0.1133      0.058     -1.956      0.055      -0.229       0.002\n",
      "x2             0.4663      0.099      4.711      0.000       0.268       0.664\n",
      "x3             0.0643      0.106      0.607      0.546      -0.148       0.276\n",
      "==============================================================================\n",
      "Omnibus:                        0.012   Durbin-Watson:                   1.988\n",
      "Prob(Omnibus):                  0.994   Jarque-Bera (JB):                0.080\n",
      "Skew:                           0.026   Prob(JB):                        0.961\n",
      "Kurtosis:                       2.837   Cond. No.                         2.63\n",
      "==============================================================================\n",
      "\n",
      "Notes:\n",
      "[1] Standard Errors assume that the covariance matrix of the errors is correctly specified.\n",
      "                            OLS Regression Results                            \n",
      "==============================================================================\n",
      "Dep. Variable:                  r_pos   R-squared:                       0.285\n",
      "Model:                            OLS   Adj. R-squared:                  0.250\n",
      "Method:                 Least Squares   F-statistic:                     8.231\n",
      "Date:                Mon, 09 May 2022   Prob (F-statistic):           0.000108\n",
      "Time:                        12:45:44   Log-Likelihood:                -28.995\n",
      "No. Observations:                  66   AIC:                             65.99\n",
      "Df Residuals:                      62   BIC:                             74.75\n",
      "Df Model:                           3                                         \n",
      "Covariance Type:            nonrobust                                         \n",
      "==============================================================================\n",
      "                 coef    std err          t      P>|t|      [0.025      0.975]\n",
      "------------------------------------------------------------------------------\n",
      "const          0.8483      0.062     13.600      0.000       0.724       0.973\n",
      "x1            -0.1065      0.062     -1.725      0.090      -0.230       0.017\n",
      "x2             0.3998      0.101      3.948      0.000       0.197       0.602\n",
      "x3             0.0244      0.103      0.236      0.814      -0.182       0.231\n",
      "==============================================================================\n",
      "Omnibus:                        0.065   Durbin-Watson:                   1.930\n",
      "Prob(Omnibus):                  0.968   Jarque-Bera (JB):                0.187\n",
      "Skew:                          -0.067   Prob(JB):                        0.911\n",
      "Kurtosis:                       2.777   Cond. No.                         2.70\n",
      "==============================================================================\n",
      "\n",
      "Notes:\n",
      "[1] Standard Errors assume that the covariance matrix of the errors is correctly specified.\n",
      "                            OLS Regression Results                            \n",
      "==============================================================================\n",
      "Dep. Variable:                  r_pos   R-squared:                       0.254\n",
      "Model:                            OLS   Adj. R-squared:                  0.218\n",
      "Method:                 Least Squares   F-statistic:                     7.046\n",
      "Date:                Mon, 09 May 2022   Prob (F-statistic):           0.000376\n",
      "Time:                        12:45:44   Log-Likelihood:                -30.377\n",
      "No. Observations:                  66   AIC:                             68.75\n",
      "Df Residuals:                      62   BIC:                             77.51\n",
      "Df Model:                           3                                         \n",
      "Covariance Type:            nonrobust                                         \n",
      "==============================================================================\n",
      "                 coef    std err          t      P>|t|      [0.025      0.975]\n",
      "------------------------------------------------------------------------------\n",
      "const          0.8288      0.063     13.249      0.000       0.704       0.954\n",
      "x1             0.0444      0.062      0.722      0.473      -0.079       0.167\n",
      "x2             0.4415      0.100      4.429      0.000       0.242       0.641\n",
      "x3             0.0254      0.102      0.249      0.804      -0.179       0.229\n",
      "==============================================================================\n",
      "Omnibus:                        0.126   Durbin-Watson:                   1.797\n",
      "Prob(Omnibus):                  0.939   Jarque-Bera (JB):                0.251\n",
      "Skew:                           0.094   Prob(JB):                        0.882\n",
      "Kurtosis:                       2.763   Cond. No.                         2.47\n",
      "==============================================================================\n",
      "\n",
      "Notes:\n",
      "[1] Standard Errors assume that the covariance matrix of the errors is correctly specified.\n"
     ]
    }
   ],
   "source": [
    "bias = model_fits_df_self['r_pos']\n",
    "feedback_cb = model_fits_df_self['self_feedback_cb']\n",
    "\n",
    "for trait_name in ['item_clinical.fa.omega3.anh','item_clinical.fa.omega3.cog_anx','item_clinical.fa.omega3.g']:\n",
    "    trait = model_fits_df_self[trait_name]\n",
    "    X = sm.add_constant(np.vstack((trait,feedback_cb,trait*feedback_cb)).T)\n",
    "    results = sm.OLS(bias,X).fit()\n",
    "    print(results.summary())"
   ]
  },
  {
   "cell_type": "code",
   "execution_count": 27,
   "id": "2a997e58",
   "metadata": {},
   "outputs": [
    {
     "name": "stderr",
     "output_type": "stream",
     "text": [
      "/Users/chrisgagne/opt/miniconda3/envs/env_belief_updating/lib/python3.9/site-packages/statsmodels/tsa/tsatools.py:142: FutureWarning: In a future version of pandas all arguments of concat except for the argument 'objs' will be keyword-only\n",
      "  x = pd.concat(x[::order], 1)\n"
     ]
    },
    {
     "data": {
      "text/html": [
       "<table class=\"simpletable\">\n",
       "<caption>OLS Regression Results</caption>\n",
       "<tr>\n",
       "  <th>Dep. Variable:</th>          <td>r_pos</td>      <th>  R-squared:         </th> <td>   0.104</td>\n",
       "</tr>\n",
       "<tr>\n",
       "  <th>Model:</th>                   <td>OLS</td>       <th>  Adj. R-squared:    </th> <td>   0.090</td>\n",
       "</tr>\n",
       "<tr>\n",
       "  <th>Method:</th>             <td>Least Squares</td>  <th>  F-statistic:       </th> <td>   7.454</td>\n",
       "</tr>\n",
       "<tr>\n",
       "  <th>Date:</th>             <td>Mon, 09 May 2022</td> <th>  Prob (F-statistic):</th>  <td>0.00817</td>\n",
       "</tr>\n",
       "<tr>\n",
       "  <th>Time:</th>                 <td>12:45:52</td>     <th>  Log-Likelihood:    </th> <td> -36.422</td>\n",
       "</tr>\n",
       "<tr>\n",
       "  <th>No. Observations:</th>      <td>    66</td>      <th>  AIC:               </th> <td>   76.84</td>\n",
       "</tr>\n",
       "<tr>\n",
       "  <th>Df Residuals:</th>          <td>    64</td>      <th>  BIC:               </th> <td>   81.22</td>\n",
       "</tr>\n",
       "<tr>\n",
       "  <th>Df Model:</th>              <td>     1</td>      <th>                     </th>     <td> </td>   \n",
       "</tr>\n",
       "<tr>\n",
       "  <th>Covariance Type:</th>      <td>nonrobust</td>    <th>                     </th>     <td> </td>   \n",
       "</tr>\n",
       "</table>\n",
       "<table class=\"simpletable\">\n",
       "<tr>\n",
       "                 <td></td>                    <th>coef</th>     <th>std err</th>      <th>t</th>      <th>P>|t|</th>  <th>[0.025</th>    <th>0.975]</th>  \n",
       "</tr>\n",
       "<tr>\n",
       "  <th>const</th>                           <td>    1.0030</td> <td>    0.053</td> <td>   19.097</td> <td> 0.000</td> <td>    0.898</td> <td>    1.108</td>\n",
       "</tr>\n",
       "<tr>\n",
       "  <th>item_clinical.fa.omega3.cog_anx</th> <td>   -0.1445</td> <td>    0.053</td> <td>   -2.730</td> <td> 0.008</td> <td>   -0.250</td> <td>   -0.039</td>\n",
       "</tr>\n",
       "</table>\n",
       "<table class=\"simpletable\">\n",
       "<tr>\n",
       "  <th>Omnibus:</th>       <td> 0.039</td> <th>  Durbin-Watson:     </th> <td>   1.799</td>\n",
       "</tr>\n",
       "<tr>\n",
       "  <th>Prob(Omnibus):</th> <td> 0.981</td> <th>  Jarque-Bera (JB):  </th> <td>   0.056</td>\n",
       "</tr>\n",
       "<tr>\n",
       "  <th>Skew:</th>          <td>-0.037</td> <th>  Prob(JB):          </th> <td>   0.972</td>\n",
       "</tr>\n",
       "<tr>\n",
       "  <th>Kurtosis:</th>      <td> 2.879</td> <th>  Cond. No.          </th> <td>    1.01</td>\n",
       "</tr>\n",
       "</table><br/><br/>Notes:<br/>[1] Standard Errors assume that the covariance matrix of the errors is correctly specified."
      ],
      "text/plain": [
       "<class 'statsmodels.iolib.summary.Summary'>\n",
       "\"\"\"\n",
       "                            OLS Regression Results                            \n",
       "==============================================================================\n",
       "Dep. Variable:                  r_pos   R-squared:                       0.104\n",
       "Model:                            OLS   Adj. R-squared:                  0.090\n",
       "Method:                 Least Squares   F-statistic:                     7.454\n",
       "Date:                Mon, 09 May 2022   Prob (F-statistic):            0.00817\n",
       "Time:                        12:45:52   Log-Likelihood:                -36.422\n",
       "No. Observations:                  66   AIC:                             76.84\n",
       "Df Residuals:                      64   BIC:                             81.22\n",
       "Df Model:                           1                                         \n",
       "Covariance Type:            nonrobust                                         \n",
       "===================================================================================================\n",
       "                                      coef    std err          t      P>|t|      [0.025      0.975]\n",
       "---------------------------------------------------------------------------------------------------\n",
       "const                               1.0030      0.053     19.097      0.000       0.898       1.108\n",
       "item_clinical.fa.omega3.cog_anx    -0.1445      0.053     -2.730      0.008      -0.250      -0.039\n",
       "==============================================================================\n",
       "Omnibus:                        0.039   Durbin-Watson:                   1.799\n",
       "Prob(Omnibus):                  0.981   Jarque-Bera (JB):                0.056\n",
       "Skew:                          -0.037   Prob(JB):                        0.972\n",
       "Kurtosis:                       2.879   Cond. No.                         1.01\n",
       "==============================================================================\n",
       "\n",
       "Notes:\n",
       "[1] Standard Errors assume that the covariance matrix of the errors is correctly specified.\n",
       "\"\"\""
      ]
     },
     "execution_count": 27,
     "metadata": {},
     "output_type": "execute_result"
    }
   ],
   "source": [
    "trait = model_fits_df_self['item_clinical.fa.omega3.cog_anx']\n",
    "X = sm.add_constant(trait)\n",
    "results = sm.OLS(bias,X).fit()\n",
    "results.summary()"
   ]
  },
  {
   "cell_type": "code",
   "execution_count": 28,
   "id": "16f89446",
   "metadata": {},
   "outputs": [
    {
     "data": {
      "text/html": [
       "<table class=\"simpletable\">\n",
       "<caption>OLS Regression Results</caption>\n",
       "<tr>\n",
       "  <th>Dep. Variable:</th>          <td>r_pos</td>      <th>  R-squared:         </th> <td>   0.284</td>\n",
       "</tr>\n",
       "<tr>\n",
       "  <th>Model:</th>                   <td>OLS</td>       <th>  Adj. R-squared:    </th> <td>   0.261</td>\n",
       "</tr>\n",
       "<tr>\n",
       "  <th>Method:</th>             <td>Least Squares</td>  <th>  F-statistic:       </th> <td>   12.51</td>\n",
       "</tr>\n",
       "<tr>\n",
       "  <th>Date:</th>             <td>Mon, 09 May 2022</td> <th>  Prob (F-statistic):</th> <td>2.67e-05</td>\n",
       "</tr>\n",
       "<tr>\n",
       "  <th>Time:</th>                 <td>12:45:54</td>     <th>  Log-Likelihood:    </th> <td> -29.024</td>\n",
       "</tr>\n",
       "<tr>\n",
       "  <th>No. Observations:</th>      <td>    66</td>      <th>  AIC:               </th> <td>   64.05</td>\n",
       "</tr>\n",
       "<tr>\n",
       "  <th>Df Residuals:</th>          <td>    63</td>      <th>  BIC:               </th> <td>   70.62</td>\n",
       "</tr>\n",
       "<tr>\n",
       "  <th>Df Model:</th>              <td>     2</td>      <th>                     </th>     <td> </td>   \n",
       "</tr>\n",
       "<tr>\n",
       "  <th>Covariance Type:</th>      <td>nonrobust</td>    <th>                     </th>     <td> </td>   \n",
       "</tr>\n",
       "</table>\n",
       "<table class=\"simpletable\">\n",
       "<tr>\n",
       "    <td></td>       <th>coef</th>     <th>std err</th>      <th>t</th>      <th>P>|t|</th>  <th>[0.025</th>    <th>0.975]</th>  \n",
       "</tr>\n",
       "<tr>\n",
       "  <th>const</th> <td>    0.8467</td> <td>    0.062</td> <td>   13.765</td> <td> 0.000</td> <td>    0.724</td> <td>    0.970</td>\n",
       "</tr>\n",
       "<tr>\n",
       "  <th>x1</th>    <td>   -0.0978</td> <td>    0.049</td> <td>   -1.991</td> <td> 0.051</td> <td>   -0.196</td> <td>    0.000</td>\n",
       "</tr>\n",
       "<tr>\n",
       "  <th>x2</th>    <td>    0.3969</td> <td>    0.100</td> <td>    3.979</td> <td> 0.000</td> <td>    0.198</td> <td>    0.596</td>\n",
       "</tr>\n",
       "</table>\n",
       "<table class=\"simpletable\">\n",
       "<tr>\n",
       "  <th>Omnibus:</th>       <td> 0.058</td> <th>  Durbin-Watson:     </th> <td>   1.928</td>\n",
       "</tr>\n",
       "<tr>\n",
       "  <th>Prob(Omnibus):</th> <td> 0.971</td> <th>  Jarque-Bera (JB):  </th> <td>   0.159</td>\n",
       "</tr>\n",
       "<tr>\n",
       "  <th>Skew:</th>          <td>-0.066</td> <th>  Prob(JB):          </th> <td>   0.924</td>\n",
       "</tr>\n",
       "<tr>\n",
       "  <th>Kurtosis:</th>      <td> 2.800</td> <th>  Cond. No.          </th> <td>    2.54</td>\n",
       "</tr>\n",
       "</table><br/><br/>Notes:<br/>[1] Standard Errors assume that the covariance matrix of the errors is correctly specified."
      ],
      "text/plain": [
       "<class 'statsmodels.iolib.summary.Summary'>\n",
       "\"\"\"\n",
       "                            OLS Regression Results                            \n",
       "==============================================================================\n",
       "Dep. Variable:                  r_pos   R-squared:                       0.284\n",
       "Model:                            OLS   Adj. R-squared:                  0.261\n",
       "Method:                 Least Squares   F-statistic:                     12.51\n",
       "Date:                Mon, 09 May 2022   Prob (F-statistic):           2.67e-05\n",
       "Time:                        12:45:54   Log-Likelihood:                -29.024\n",
       "No. Observations:                  66   AIC:                             64.05\n",
       "Df Residuals:                      63   BIC:                             70.62\n",
       "Df Model:                           2                                         \n",
       "Covariance Type:            nonrobust                                         \n",
       "==============================================================================\n",
       "                 coef    std err          t      P>|t|      [0.025      0.975]\n",
       "------------------------------------------------------------------------------\n",
       "const          0.8467      0.062     13.765      0.000       0.724       0.970\n",
       "x1            -0.0978      0.049     -1.991      0.051      -0.196       0.000\n",
       "x2             0.3969      0.100      3.979      0.000       0.198       0.596\n",
       "==============================================================================\n",
       "Omnibus:                        0.058   Durbin-Watson:                   1.928\n",
       "Prob(Omnibus):                  0.971   Jarque-Bera (JB):                0.159\n",
       "Skew:                          -0.066   Prob(JB):                        0.924\n",
       "Kurtosis:                       2.800   Cond. No.                         2.54\n",
       "==============================================================================\n",
       "\n",
       "Notes:\n",
       "[1] Standard Errors assume that the covariance matrix of the errors is correctly specified.\n",
       "\"\"\""
      ]
     },
     "execution_count": 28,
     "metadata": {},
     "output_type": "execute_result"
    }
   ],
   "source": [
    "trait = model_fits_df_self['item_clinical.fa.omega3.cog_anx']\n",
    "X = sm.add_constant(np.vstack((trait,feedback_cb)).T)\n",
    "results = sm.OLS(bias,X).fit()\n",
    "results.summary()"
   ]
  },
  {
   "cell_type": "markdown",
   "id": "6b3088df",
   "metadata": {},
   "source": [
    "### Learning rate (eta)"
   ]
  },
  {
   "cell_type": "code",
   "execution_count": 29,
   "id": "e9c8a8bd",
   "metadata": {},
   "outputs": [
    {
     "name": "stdout",
     "output_type": "stream",
     "text": [
      "0.09858073459053504\n"
     ]
    }
   ],
   "source": [
    "print(model_fits_df_self['alpha'].mean())"
   ]
  },
  {
   "cell_type": "markdown",
   "id": "77177948",
   "metadata": {},
   "source": [
    "### Precision (nu)"
   ]
  },
  {
   "cell_type": "code",
   "execution_count": 30,
   "id": "35923ef7",
   "metadata": {},
   "outputs": [
    {
     "name": "stdout",
     "output_type": "stream",
     "text": [
      "319.33164903542837\n"
     ]
    }
   ],
   "source": [
    "print(model_fits_df_self['v_s'].mean())"
   ]
  },
  {
   "cell_type": "markdown",
   "id": "704c4465",
   "metadata": {},
   "source": [
    "### Correlating model parameters with factors"
   ]
  },
  {
   "cell_type": "markdown",
   "id": "90303561",
   "metadata": {},
   "source": [
    "#### (self) model parameters and traits, adjusted multiple comparisons"
   ]
  },
  {
   "cell_type": "code",
   "execution_count": 31,
   "id": "234b21e3",
   "metadata": {},
   "outputs": [
    {
     "name": "stdout",
     "output_type": "stream",
     "text": [
      "r=0.05; p=0.707; pvalbh=0.771; pvalbon=1.0; u_u0_item_clinical.fa.omega3.g\n",
      "r=-0.33; p=0.006; pvalbh=0.048; pvalbon=0.072; u_u0_item_clinical.fa.omega3.anh\n",
      "r=-0.07; p=0.591; pvalbh=0.709; pvalbon=1.0; u_u0_item_clinical.fa.omega3.cog_anx\n",
      "r=0.13; p=0.294; pvalbh=0.504; pvalbon=1.0; r_pos_item_clinical.fa.omega3.g\n",
      "r=-0.13; p=0.281; pvalbh=0.504; pvalbon=1.0; r_pos_item_clinical.fa.omega3.anh\n",
      "r=-0.32; p=0.008; pvalbh=0.048; pvalbon=0.096; r_pos_item_clinical.fa.omega3.cog_anx\n",
      "r=-0.02; p=0.849; pvalbh=0.849; pvalbon=1.0; alpha_item_clinical.fa.omega3.g\n",
      "r=0.22; p=0.077; pvalbh=0.252; pvalbon=0.924; alpha_item_clinical.fa.omega3.anh\n",
      "r=0.07; p=0.573; pvalbh=0.709; pvalbon=1.0; alpha_item_clinical.fa.omega3.cog_anx\n",
      "r=-0.21; p=0.084; pvalbh=0.252; pvalbon=1.0; v_s_item_clinical.fa.omega3.g\n",
      "r=0.15; p=0.222; pvalbh=0.504; pvalbon=1.0; v_s_item_clinical.fa.omega3.anh\n",
      "r=-0.07; p=0.568; pvalbh=0.709; pvalbon=1.0; v_s_item_clinical.fa.omega3.cog_anx\n"
     ]
    }
   ],
   "source": [
    "rs = []\n",
    "pvalues = []\n",
    "names = []\n",
    "for si,stat in enumerate(['u_u0','r_pos','alpha','v_s']):\n",
    "    for ti,trait in enumerate([\n",
    "        'item_clinical.fa.omega3.g',\n",
    "        'item_clinical.fa.omega3.anh',\n",
    "        'item_clinical.fa.omega3.cog_anx',]):\n",
    "        \n",
    "        y = model_fits_df_self[stat].values\n",
    "        x = model_fits_df_self[trait].values\n",
    "        \n",
    "        pr,pp = pearsonr(x,y)\n",
    "        pr = np.round(pr,2)\n",
    "        pp = np.round(pp,3)\n",
    "        \n",
    "        rs.append(pr)\n",
    "        pvalues.append(pp)\n",
    "        names.append(stat+'_'+trait)\n",
    "        \n",
    "\n",
    "from statsmodels.stats.multitest import multipletests\n",
    "(_,pval_bh,_,_) = multipletests(pvalues,method='fdr_bh')\n",
    "(_,pval_bon,_,_) = multipletests(pvalues,method='bonferroni')\n",
    "\n",
    "for r,p,p1,p2,n in zip(rs,pvalues,pval_bh,pval_bon,names):\n",
    "    p=np.round(p,3)\n",
    "    p1=np.round(p1,3)\n",
    "    p2=np.round(p2,3)\n",
    "    print('r={4}; p={0}; pvalbh={1}; pvalbon={2}; {3}'.format(p,p1,p2,n,r))"
   ]
  },
  {
   "cell_type": "markdown",
   "id": "5b57d9fe",
   "metadata": {},
   "source": [
    "#### (self) model parameters and traits, adjusted multiple comparisons, permutation test"
   ]
  },
  {
   "cell_type": "code",
   "execution_count": 32,
   "id": "bc86cc97",
   "metadata": {},
   "outputs": [],
   "source": [
    "sys.path.append('../mscl/')\n",
    "import permutation\n",
    "imp.reload(permutation)\n",
    "from permutation import pearson_permutation_test"
   ]
  },
  {
   "cell_type": "code",
   "execution_count": 33,
   "id": "fc21212d",
   "metadata": {},
   "outputs": [
    {
     "name": "stdout",
     "output_type": "stream",
     "text": [
      "r=0.05; p=0.708; pvalbh=0.772; pvalbon=1.0; u_u0_item_clinical.fa.omega3.g\n",
      "r=-0.33; p=0.007; pvalbh=0.048; pvalbon=0.084; u_u0_item_clinical.fa.omega3.anh\n",
      "r=-0.07; p=0.604; pvalbh=0.725; pvalbon=1.0; u_u0_item_clinical.fa.omega3.cog_anx\n",
      "r=0.13; p=0.291; pvalbh=0.499; pvalbon=1.0; r_pos_item_clinical.fa.omega3.g\n",
      "r=-0.13; p=0.282; pvalbh=0.499; pvalbon=1.0; r_pos_item_clinical.fa.omega3.anh\n",
      "r=-0.32; p=0.008; pvalbh=0.048; pvalbon=0.096; r_pos_item_clinical.fa.omega3.cog_anx\n",
      "r=-0.02; p=0.852; pvalbh=0.852; pvalbon=1.0; alpha_item_clinical.fa.omega3.g\n",
      "r=0.22; p=0.08; pvalbh=0.258; pvalbon=0.96; alpha_item_clinical.fa.omega3.anh\n",
      "r=0.07; p=0.571; pvalbh=0.725; pvalbon=1.0; alpha_item_clinical.fa.omega3.cog_anx\n",
      "r=-0.21; p=0.086; pvalbh=0.258; pvalbon=1.0; v_s_item_clinical.fa.omega3.g\n",
      "r=0.15; p=0.219; pvalbh=0.499; pvalbon=1.0; v_s_item_clinical.fa.omega3.anh\n",
      "r=-0.07; p=0.565; pvalbh=0.725; pvalbon=1.0; v_s_item_clinical.fa.omega3.cog_anx\n"
     ]
    }
   ],
   "source": [
    "rs = []\n",
    "pvalues = []\n",
    "names = []\n",
    "for si,stat in enumerate(['u_u0','r_pos','alpha','v_s']):\n",
    "    for ti,trait in enumerate([\n",
    "        'item_clinical.fa.omega3.g',\n",
    "        'item_clinical.fa.omega3.anh',\n",
    "        'item_clinical.fa.omega3.cog_anx',]):\n",
    "        \n",
    "        y = model_fits_df_self[stat].values\n",
    "        x = model_fits_df_self[trait].values\n",
    "        \n",
    "        #pr,pp = pearsonr(x,y)\n",
    "        pp,pr,_,_,_ = pearson_permutation_test(x,y)\n",
    "        pr = np.round(pr,2)\n",
    "        pp = np.round(pp,3)\n",
    "        \n",
    "        rs.append(pr)\n",
    "        pvalues.append(pp)\n",
    "        names.append(stat+'_'+trait)\n",
    "        \n",
    "\n",
    "from statsmodels.stats.multitest import multipletests\n",
    "(_,pval_bh,_,_) = multipletests(pvalues,method='fdr_bh')\n",
    "(_,pval_bon,_,_) = multipletests(pvalues,method='bonferroni')\n",
    "\n",
    "for r,p,p1,p2,n in zip(rs,pvalues,pval_bh,pval_bon,names):\n",
    "    p=np.round(p,3)\n",
    "    p1=np.round(p1,3)\n",
    "    p2=np.round(p2,3)\n",
    "    print('r={4}; p={0}; pvalbh={1}; pvalbon={2}; {3}'.format(p,p1,p2,n,r))"
   ]
  },
  {
   "cell_type": "markdown",
   "id": "03bb2584",
   "metadata": {},
   "source": [
    "##### without outlier, for learning rate "
   ]
  },
  {
   "cell_type": "code",
   "execution_count": 34,
   "id": "8cf9554a",
   "metadata": {},
   "outputs": [
    {
     "name": "stdout",
     "output_type": "stream",
     "text": [
      "r=0.05; p=0.707; pvalbh=0.707; pvalbon=1.0; u_u0_item_clinical.fa.omega3.g\n",
      "r=-0.33; p=0.006; pvalbh=0.048; pvalbon=0.072; u_u0_item_clinical.fa.omega3.anh\n",
      "r=-0.07; p=0.591; pvalbh=0.707; pvalbon=1.0; u_u0_item_clinical.fa.omega3.cog_anx\n",
      "r=0.13; p=0.294; pvalbh=0.441; pvalbon=1.0; r_pos_item_clinical.fa.omega3.g\n",
      "r=-0.13; p=0.281; pvalbh=0.441; pvalbon=1.0; r_pos_item_clinical.fa.omega3.anh\n",
      "r=-0.32; p=0.008; pvalbh=0.048; pvalbon=0.096; r_pos_item_clinical.fa.omega3.cog_anx\n",
      "r=0.05; p=0.673; pvalbh=0.707; pvalbon=1.0; alpha_item_clinical.fa.omega3.g\n",
      "r=0.2; p=0.111; pvalbh=0.266; pvalbon=1.0; alpha_item_clinical.fa.omega3.anh\n",
      "r=0.25; p=0.048; pvalbh=0.192; pvalbon=0.576; alpha_item_clinical.fa.omega3.cog_anx\n",
      "r=-0.21; p=0.084; pvalbh=0.252; pvalbon=1.0; v_s_item_clinical.fa.omega3.g\n",
      "r=0.15; p=0.222; pvalbh=0.441; pvalbon=1.0; v_s_item_clinical.fa.omega3.anh\n",
      "r=-0.07; p=0.568; pvalbh=0.707; pvalbon=1.0; v_s_item_clinical.fa.omega3.cog_anx\n"
     ]
    }
   ],
   "source": [
    "rs = []\n",
    "pvalues = []\n",
    "names = []\n",
    "for si,stat in enumerate(['u_u0','r_pos','alpha','v_s']):\n",
    "    for ti,trait in enumerate([\n",
    "        'item_clinical.fa.omega3.g',\n",
    "        'item_clinical.fa.omega3.anh',\n",
    "        'item_clinical.fa.omega3.cog_anx',]):\n",
    "        \n",
    "        y = model_fits_df_self[stat].values\n",
    "        x = model_fits_df_self[trait].values\n",
    "        if stat=='alpha':\n",
    "            sel = y<0.5\n",
    "        else:\n",
    "            sel = y<np.inf\n",
    "        y = y[sel]\n",
    "        x = x[sel]\n",
    "        \n",
    "        pr,pp = pearsonr(x,y)\n",
    "        pr = np.round(pr,2)\n",
    "        pp = np.round(pp,3)\n",
    "        \n",
    "        rs.append(pr)\n",
    "        pvalues.append(pp)\n",
    "        names.append(stat+'_'+trait)\n",
    "        \n",
    "\n",
    "from statsmodels.stats.multitest import multipletests\n",
    "(_,pval_bh,_,_) = multipletests(pvalues,method='fdr_bh')\n",
    "(_,pval_bon,_,_) = multipletests(pvalues,method='bonferroni')\n",
    "\n",
    "for r,p,p1,p2,n in zip(rs,pvalues,pval_bh,pval_bon,names):\n",
    "    p=np.round(p,3)\n",
    "    p1=np.round(p1,3)\n",
    "    p2=np.round(p2,3)\n",
    "    print('r={4}; p={0}; pvalbh={1}; pvalbon={2}; {3}'.format(p,p1,p2,n,r))"
   ]
  },
  {
   "cell_type": "markdown",
   "id": "3eaf0a85",
   "metadata": {},
   "source": [
    "#### (others) model parameters and traits, adjusted multiple comparisons "
   ]
  },
  {
   "cell_type": "code",
   "execution_count": 35,
   "id": "acef2581",
   "metadata": {},
   "outputs": [
    {
     "name": "stdout",
     "output_type": "stream",
     "text": [
      "r=-0.07; p=0.57; pvalbh=0.868; pvalbon=1.0; u_u0_item_clinical.fa.omega3.g\n",
      "r=-0.23; p=0.066; pvalbh=0.306; pvalbon=0.792; u_u0_item_clinical.fa.omega3.anh\n",
      "r=0.05; p=0.681; pvalbh=0.868; pvalbon=1.0; u_u0_item_clinical.fa.omega3.cog_anx\n",
      "r=-0.05; p=0.709; pvalbh=0.868; pvalbon=1.0; r_pos_item_clinical.fa.omega3.g\n",
      "r=-0.04; p=0.723; pvalbh=0.868; pvalbon=1.0; r_pos_item_clinical.fa.omega3.anh\n",
      "r=-0.06; p=0.614; pvalbh=0.868; pvalbon=1.0; r_pos_item_clinical.fa.omega3.cog_anx\n",
      "r=0.21; p=0.096; pvalbh=0.306; pvalbon=1.0; alpha_item_clinical.fa.omega3.g\n",
      "r=-0.03; p=0.811; pvalbh=0.885; pvalbon=1.0; alpha_item_clinical.fa.omega3.anh\n",
      "r=-0.01; p=0.912; pvalbh=0.912; pvalbon=1.0; alpha_item_clinical.fa.omega3.cog_anx\n",
      "r=-0.2; p=0.102; pvalbh=0.306; pvalbon=1.0; v_s_item_clinical.fa.omega3.g\n",
      "r=0.24; p=0.048; pvalbh=0.306; pvalbon=0.576; v_s_item_clinical.fa.omega3.anh\n",
      "r=-0.17; p=0.181; pvalbh=0.434; pvalbon=1.0; v_s_item_clinical.fa.omega3.cog_anx\n"
     ]
    }
   ],
   "source": [
    "rs = []\n",
    "pvalues = []\n",
    "names = []\n",
    "for si,stat in enumerate(['u_u0','r_pos','alpha','v_s']):\n",
    "    for ti,trait in enumerate([\n",
    "        'item_clinical.fa.omega3.g',\n",
    "        'item_clinical.fa.omega3.anh',\n",
    "        'item_clinical.fa.omega3.cog_anx',]):\n",
    "        \n",
    "        y = model_fits_df_other[stat].values\n",
    "        x = model_fits_df_other[trait].values\n",
    "        \n",
    "        pr,pp = pearsonr(x,y)\n",
    "        pr = np.round(pr,2)\n",
    "        pp = np.round(pp,3)\n",
    "        \n",
    "        rs.append(pr)\n",
    "        pvalues.append(pp)\n",
    "        names.append(stat+'_'+trait)\n",
    "        \n",
    "\n",
    "from statsmodels.stats.multitest import multipletests\n",
    "(_,pval_bh,_,_) = multipletests(pvalues,method='fdr_bh')\n",
    "(_,pval_bon,_,_) = multipletests(pvalues,method='bonferroni')\n",
    "\n",
    "for r,p,p1,p2,n in zip(rs,pvalues,pval_bh,pval_bon,names):\n",
    "    p=np.round(p,3)\n",
    "    p1=np.round(p1,3)\n",
    "    p2=np.round(p2,3)\n",
    "    print('r={4}; p={0}; pvalbh={1}; pvalbon={2}; {3}'.format(p,p1,p2,n,r))"
   ]
  },
  {
   "cell_type": "markdown",
   "id": "e1be4727",
   "metadata": {},
   "source": [
    "### Regressions (self): predicting factor scores with prior mean and bias "
   ]
  },
  {
   "cell_type": "code",
   "execution_count": 36,
   "id": "ac09c2d2",
   "metadata": {},
   "outputs": [
    {
     "data": {
      "text/html": [
       "<div>\n",
       "<style scoped>\n",
       "    .dataframe tbody tr th:only-of-type {\n",
       "        vertical-align: middle;\n",
       "    }\n",
       "\n",
       "    .dataframe tbody tr th {\n",
       "        vertical-align: top;\n",
       "    }\n",
       "\n",
       "    .dataframe thead th {\n",
       "        text-align: right;\n",
       "    }\n",
       "</style>\n",
       "<table border=\"1\" class=\"dataframe\">\n",
       "  <thead>\n",
       "    <tr style=\"text-align: right;\">\n",
       "      <th></th>\n",
       "      <th>r2</th>\n",
       "      <th>mse</th>\n",
       "      <th>rmse</th>\n",
       "      <th>aic</th>\n",
       "      <th>bic</th>\n",
       "      <th>nllk</th>\n",
       "      <th>alpha</th>\n",
       "      <th>r_pos</th>\n",
       "      <th>v_s</th>\n",
       "      <th>u_u0</th>\n",
       "    </tr>\n",
       "  </thead>\n",
       "  <tbody>\n",
       "    <tr>\n",
       "      <th>0</th>\n",
       "      <td>0.329</td>\n",
       "      <td>0.001</td>\n",
       "      <td>0.038</td>\n",
       "      <td>-69.666</td>\n",
       "      <td>-65.488</td>\n",
       "      <td>-38.833</td>\n",
       "      <td>0.044081</td>\n",
       "      <td>1.352255</td>\n",
       "      <td>154.994416</td>\n",
       "      <td>0.592131</td>\n",
       "    </tr>\n",
       "    <tr>\n",
       "      <th>1</th>\n",
       "      <td>0.805</td>\n",
       "      <td>0.000</td>\n",
       "      <td>0.020</td>\n",
       "      <td>-95.973</td>\n",
       "      <td>-91.794</td>\n",
       "      <td>-51.986</td>\n",
       "      <td>0.037854</td>\n",
       "      <td>1.237535</td>\n",
       "      <td>416.403644</td>\n",
       "      <td>0.777881</td>\n",
       "    </tr>\n",
       "    <tr>\n",
       "      <th>2</th>\n",
       "      <td>0.796</td>\n",
       "      <td>0.002</td>\n",
       "      <td>0.047</td>\n",
       "      <td>-60.693</td>\n",
       "      <td>-56.515</td>\n",
       "      <td>-34.347</td>\n",
       "      <td>0.089859</td>\n",
       "      <td>1.518145</td>\n",
       "      <td>102.954360</td>\n",
       "      <td>0.324754</td>\n",
       "    </tr>\n",
       "    <tr>\n",
       "      <th>3</th>\n",
       "      <td>0.804</td>\n",
       "      <td>0.001</td>\n",
       "      <td>0.032</td>\n",
       "      <td>-75.879</td>\n",
       "      <td>-71.701</td>\n",
       "      <td>-41.940</td>\n",
       "      <td>0.063466</td>\n",
       "      <td>1.128491</td>\n",
       "      <td>189.353425</td>\n",
       "      <td>0.745758</td>\n",
       "    </tr>\n",
       "    <tr>\n",
       "      <th>4</th>\n",
       "      <td>0.939</td>\n",
       "      <td>0.000</td>\n",
       "      <td>0.014</td>\n",
       "      <td>-110.211</td>\n",
       "      <td>-106.033</td>\n",
       "      <td>-59.105</td>\n",
       "      <td>0.020566</td>\n",
       "      <td>2.171128</td>\n",
       "      <td>840.638615</td>\n",
       "      <td>0.491811</td>\n",
       "    </tr>\n",
       "  </tbody>\n",
       "</table>\n",
       "</div>"
      ],
      "text/plain": [
       "      r2    mse   rmse      aic      bic    nllk     alpha     r_pos  \\\n",
       "0  0.329  0.001  0.038  -69.666  -65.488 -38.833  0.044081  1.352255   \n",
       "1  0.805  0.000  0.020  -95.973  -91.794 -51.986  0.037854  1.237535   \n",
       "2  0.796  0.002  0.047  -60.693  -56.515 -34.347  0.089859  1.518145   \n",
       "3  0.804  0.001  0.032  -75.879  -71.701 -41.940  0.063466  1.128491   \n",
       "4  0.939  0.000  0.014 -110.211 -106.033 -59.105  0.020566  2.171128   \n",
       "\n",
       "          v_s      u_u0  \n",
       "0  154.994416  0.592131  \n",
       "1  416.403644  0.777881  \n",
       "2  102.954360  0.324754  \n",
       "3  189.353425  0.745758  \n",
       "4  840.638615  0.491811  "
      ]
     },
     "execution_count": 36,
     "metadata": {},
     "output_type": "execute_result"
    }
   ],
   "source": [
    "modelname ='model_RW_update_w_report_samelr_relfbscaling'\n",
    "model_fits_df, params = get_model_fit_data(modelname, df)\n",
    "model_fits_df[['r2', 'mse', 'rmse', 'aic', 'bic', 'nllk','alpha', 'r_pos','v_s', 'u_u0']].head(5)"
   ]
  },
  {
   "cell_type": "markdown",
   "id": "62102db1",
   "metadata": {},
   "source": [
    "#### Depression model"
   ]
  },
  {
   "cell_type": "code",
   "execution_count": 37,
   "id": "cc3b0d21",
   "metadata": {},
   "outputs": [],
   "source": [
    "trait_name = 'item_clinical.fa.omega3.anh'\n",
    "trait = df[trait_name]\n",
    "bias = model_fits_df['r_pos'].values\n",
    "prior = model_fits_df['u_u0'].values"
   ]
  },
  {
   "cell_type": "code",
   "execution_count": 38,
   "id": "723b05fc",
   "metadata": {},
   "outputs": [
    {
     "name": "stdout",
     "output_type": "stream",
     "text": [
      "                                 OLS Regression Results                                \n",
      "=======================================================================================\n",
      "Dep. Variable:     item_clinical.fa.omega3.anh   R-squared:                       0.113\n",
      "Model:                                     OLS   Adj. R-squared:                  0.085\n",
      "Method:                          Least Squares   F-statistic:                     4.007\n",
      "Date:                         Mon, 09 May 2022   Prob (F-statistic):             0.0230\n",
      "Time:                                 12:47:00   Log-Likelihood:                -89.195\n",
      "No. Observations:                           66   AIC:                             184.4\n",
      "Df Residuals:                               63   BIC:                             191.0\n",
      "Df Model:                                    2                                         \n",
      "Covariance Type:                     nonrobust                                         \n",
      "==============================================================================\n",
      "                 coef    std err          t      P>|t|      [0.025      0.975]\n",
      "------------------------------------------------------------------------------\n",
      "constant       0.8002      0.349      2.295      0.025       0.103       1.497\n",
      "bias           0.0993      0.307      0.323      0.747      -0.514       0.712\n",
      "prior         -1.8053      0.696     -2.594      0.012      -3.196      -0.414\n",
      "==============================================================================\n",
      "Omnibus:                        0.915   Durbin-Watson:                   1.893\n",
      "Prob(Omnibus):                  0.633   Jarque-Bera (JB):                0.978\n",
      "Skew:                          -0.181   Prob(JB):                        0.613\n",
      "Kurtosis:                       2.526   Cond. No.                         9.67\n",
      "==============================================================================\n",
      "\n",
      "Notes:\n",
      "[1] Standard Errors assume that the covariance matrix of the errors is correctly specified.\n"
     ]
    }
   ],
   "source": [
    "X = sm.add_constant(np.vstack((bias,prior)).T)\n",
    "X = pd.DataFrame(X,columns=['constant','bias','prior'])\n",
    "results_base = sm.OLS(trait,X).fit()\n",
    "print(results_base.summary())"
   ]
  },
  {
   "cell_type": "markdown",
   "id": "c4af28b7",
   "metadata": {},
   "source": [
    "#### Depression model w/ interaction"
   ]
  },
  {
   "cell_type": "code",
   "execution_count": 39,
   "id": "74e46b8b",
   "metadata": {},
   "outputs": [
    {
     "name": "stdout",
     "output_type": "stream",
     "text": [
      "                                 OLS Regression Results                                \n",
      "=======================================================================================\n",
      "Dep. Variable:     item_clinical.fa.omega3.anh   R-squared:                       0.158\n",
      "Model:                                     OLS   Adj. R-squared:                  0.117\n",
      "Method:                          Least Squares   F-statistic:                     3.875\n",
      "Date:                         Mon, 09 May 2022   Prob (F-statistic):             0.0132\n",
      "Time:                                 12:47:01   Log-Likelihood:                -87.475\n",
      "No. Observations:                           66   AIC:                             183.0\n",
      "Df Residuals:                               62   BIC:                             191.7\n",
      "Df Model:                                    3                                         \n",
      "Covariance Type:                     nonrobust                                         \n",
      "==============================================================================\n",
      "                 coef    std err          t      P>|t|      [0.025      0.975]\n",
      "------------------------------------------------------------------------------\n",
      "constant       1.9163      0.702      2.730      0.008       0.513       3.320\n",
      "bias          -1.0948      0.722     -1.517      0.134      -2.537       0.348\n",
      "prior         -4.4149      1.588     -2.781      0.007      -7.589      -1.241\n",
      "bias*prior     2.5428      1.396      1.821      0.073      -0.248       5.334\n",
      "==============================================================================\n",
      "Omnibus:                        0.636   Durbin-Watson:                   2.018\n",
      "Prob(Omnibus):                  0.728   Jarque-Bera (JB):                0.724\n",
      "Skew:                          -0.072   Prob(JB):                        0.696\n",
      "Kurtosis:                       2.507   Cond. No.                         32.2\n",
      "==============================================================================\n",
      "\n",
      "Notes:\n",
      "[1] Standard Errors assume that the covariance matrix of the errors is correctly specified.\n"
     ]
    }
   ],
   "source": [
    "extra = np.zeros_like(bias)\n",
    "extra[(bias<1)&(prior<0.5)]=1.0\n",
    "\n",
    "extra = prior*bias\n",
    "\n",
    "X = sm.add_constant(np.vstack((bias,prior,extra)).T)\n",
    "X = pd.DataFrame(X,columns=['constant','bias','prior','bias*prior'])\n",
    "results = sm.OLS(trait,X).fit()\n",
    "print(results.summary())"
   ]
  },
  {
   "cell_type": "code",
   "execution_count": 40,
   "id": "d641d92b",
   "metadata": {},
   "outputs": [
    {
     "data": {
      "text/plain": [
       "(3.4395046633871686, 0.0636547742834435, 1.0)"
      ]
     },
     "execution_count": 40,
     "metadata": {},
     "output_type": "execute_result"
    }
   ],
   "source": [
    "results.compare_lr_test(results_base)"
   ]
  },
  {
   "cell_type": "markdown",
   "id": "86be05e7",
   "metadata": {},
   "source": [
    "#### Anxiety model"
   ]
  },
  {
   "cell_type": "code",
   "execution_count": 41,
   "id": "49e51606",
   "metadata": {},
   "outputs": [],
   "source": [
    "trait_name = 'item_clinical.fa.omega3.cog_anx'\n",
    "trait = df[trait_name]"
   ]
  },
  {
   "cell_type": "code",
   "execution_count": 42,
   "id": "442207a4",
   "metadata": {},
   "outputs": [
    {
     "name": "stdout",
     "output_type": "stream",
     "text": [
      "                                   OLS Regression Results                                  \n",
      "===========================================================================================\n",
      "Dep. Variable:     item_clinical.fa.omega3.cog_anx   R-squared:                       0.116\n",
      "Model:                                         OLS   Adj. R-squared:                  0.088\n",
      "Method:                              Least Squares   F-statistic:                     4.149\n",
      "Date:                             Mon, 09 May 2022   Prob (F-statistic):             0.0203\n",
      "Time:                                     12:47:05   Log-Likelihood:                -89.063\n",
      "No. Observations:                               66   AIC:                             184.1\n",
      "Df Residuals:                                   63   BIC:                             190.7\n",
      "Df Model:                                        2                                         \n",
      "Covariance Type:                         nonrobust                                         \n",
      "==============================================================================\n",
      "                 coef    std err          t      P>|t|      [0.025      0.975]\n",
      "------------------------------------------------------------------------------\n",
      "constant       0.5462      0.348      1.570      0.122      -0.149       1.242\n",
      "bias          -0.8648      0.306     -2.824      0.006      -1.477      -0.253\n",
      "prior          0.6445      0.695      0.928      0.357      -0.744       2.033\n",
      "==============================================================================\n",
      "Omnibus:                        4.656   Durbin-Watson:                   2.106\n",
      "Prob(Omnibus):                  0.097   Jarque-Bera (JB):                2.171\n",
      "Skew:                          -0.090   Prob(JB):                        0.338\n",
      "Kurtosis:                       2.130   Cond. No.                         9.67\n",
      "==============================================================================\n",
      "\n",
      "Notes:\n",
      "[1] Standard Errors assume that the covariance matrix of the errors is correctly specified.\n"
     ]
    }
   ],
   "source": [
    "X = sm.add_constant(np.vstack((bias,prior)).T)\n",
    "X = pd.DataFrame(X,columns=['constant','bias','prior'])\n",
    "results_base = sm.OLS(trait,X).fit()\n",
    "print(results_base.summary())"
   ]
  },
  {
   "cell_type": "markdown",
   "id": "11dd37b3",
   "metadata": {},
   "source": [
    "#### Anxiety model w/ interaction"
   ]
  },
  {
   "cell_type": "code",
   "execution_count": 43,
   "id": "958846a1",
   "metadata": {},
   "outputs": [
    {
     "name": "stdout",
     "output_type": "stream",
     "text": [
      "                                   OLS Regression Results                                  \n",
      "===========================================================================================\n",
      "Dep. Variable:     item_clinical.fa.omega3.cog_anx   R-squared:                       0.118\n",
      "Model:                                         OLS   Adj. R-squared:                  0.076\n",
      "Method:                              Least Squares   F-statistic:                     2.771\n",
      "Date:                             Mon, 09 May 2022   Prob (F-statistic):             0.0490\n",
      "Time:                                     12:47:07   Log-Likelihood:                -88.995\n",
      "No. Observations:                               66   AIC:                             186.0\n",
      "Df Residuals:                                   62   BIC:                             194.7\n",
      "Df Model:                                        3                                         \n",
      "Covariance Type:                         nonrobust                                         \n",
      "==============================================================================\n",
      "                 coef    std err          t      P>|t|      [0.025      0.975]\n",
      "------------------------------------------------------------------------------\n",
      "constant       0.3215      0.718      0.448      0.656      -1.114       1.758\n",
      "bias          -0.6244      0.738     -0.846      0.401      -2.100       0.852\n",
      "prior          1.1698      1.625      0.720      0.474      -2.078       4.417\n",
      "bias*prior    -0.5118      1.429     -0.358      0.721      -3.368       2.344\n",
      "==============================================================================\n",
      "Omnibus:                        4.598   Durbin-Watson:                   2.110\n",
      "Prob(Omnibus):                  0.100   Jarque-Bera (JB):                2.144\n",
      "Skew:                          -0.080   Prob(JB):                        0.342\n",
      "Kurtosis:                       2.132   Cond. No.                         32.2\n",
      "==============================================================================\n",
      "\n",
      "Notes:\n",
      "[1] Standard Errors assume that the covariance matrix of the errors is correctly specified.\n"
     ]
    }
   ],
   "source": [
    "extra = prior*bias\n",
    "X = sm.add_constant(np.vstack((bias,prior,extra)).T)\n",
    "X = pd.DataFrame(X,columns=['constant','bias','prior','bias*prior'])\n",
    "results = sm.OLS(trait,X).fit()\n",
    "print(results.summary())"
   ]
  },
  {
   "cell_type": "code",
   "execution_count": 44,
   "id": "0a07fa32",
   "metadata": {},
   "outputs": [
    {
     "data": {
      "text/plain": [
       "(0.136480060751893, 0.7118056911109307, 1.0)"
      ]
     },
     "execution_count": 44,
     "metadata": {},
     "output_type": "execute_result"
    }
   ],
   "source": [
    "results.compare_lr_test(results_base)"
   ]
  },
  {
   "cell_type": "markdown",
   "id": "4113d04d",
   "metadata": {},
   "source": [
    "#### Comparing coefficients across the anxiety and depression models"
   ]
  },
  {
   "cell_type": "code",
   "execution_count": 45,
   "id": "8e4008b5",
   "metadata": {},
   "outputs": [],
   "source": [
    "dep = df['item_clinical.fa.omega3.anh']\n",
    "anx = df['item_clinical.fa.omega3.cog_anx']\n",
    "bias = model_fits_df['r_pos'].values\n",
    "prior = model_fits_df['u_u0'].values"
   ]
  },
  {
   "cell_type": "code",
   "execution_count": 46,
   "id": "26974a62",
   "metadata": {},
   "outputs": [],
   "source": [
    "from permutation import regression_diff_permutation_test2"
   ]
  },
  {
   "cell_type": "code",
   "execution_count": 47,
   "id": "39a1dd9d",
   "metadata": {},
   "outputs": [],
   "source": [
    "(p_perm_bias,p_perm_prior,diffs_bias,\n",
    "diffs_prior, bias_diff, prior_diff) = regression_diff_permutation_test2(dep, anx, bias, prior)"
   ]
  },
  {
   "cell_type": "code",
   "execution_count": 48,
   "id": "bfea4959",
   "metadata": {},
   "outputs": [
    {
     "name": "stdout",
     "output_type": "stream",
     "text": [
      "0.0139\n",
      "-0.9640676186537516\n"
     ]
    }
   ],
   "source": [
    "print(p_perm_bias)\n",
    "print(bias_diff)"
   ]
  },
  {
   "cell_type": "code",
   "execution_count": 49,
   "id": "a36c59a8",
   "metadata": {},
   "outputs": [
    {
     "name": "stdout",
     "output_type": "stream",
     "text": [
      "0.0059\n",
      "-2.4498010183371424\n"
     ]
    }
   ],
   "source": [
    "print(p_perm_prior)\n",
    "print(prior_diff)"
   ]
  },
  {
   "cell_type": "markdown",
   "id": "4a7e1879",
   "metadata": {},
   "source": [
    "#### General Factor model"
   ]
  },
  {
   "cell_type": "code",
   "execution_count": 50,
   "id": "bf827f0c",
   "metadata": {},
   "outputs": [],
   "source": [
    "trait_name = 'item_clinical.fa.omega3.g'\n",
    "trait = df[trait_name]"
   ]
  },
  {
   "cell_type": "code",
   "execution_count": 51,
   "id": "a18540f7",
   "metadata": {},
   "outputs": [
    {
     "name": "stdout",
     "output_type": "stream",
     "text": [
      "                                OLS Regression Results                               \n",
      "=====================================================================================\n",
      "Dep. Variable:     item_clinical.fa.omega3.g   R-squared:                       0.018\n",
      "Model:                                   OLS   Adj. R-squared:                 -0.014\n",
      "Method:                        Least Squares   F-statistic:                    0.5664\n",
      "Date:                       Mon, 09 May 2022   Prob (F-statistic):              0.570\n",
      "Time:                               12:47:23   Log-Likelihood:                -92.558\n",
      "No. Observations:                         66   AIC:                             191.1\n",
      "Df Residuals:                             63   BIC:                             197.7\n",
      "Df Model:                                  2                                         \n",
      "Covariance Type:                   nonrobust                                         \n",
      "==============================================================================\n",
      "                 coef    std err          t      P>|t|      [0.025      0.975]\n",
      "------------------------------------------------------------------------------\n",
      "constant      -0.2589      0.367     -0.706      0.483      -0.992       0.474\n",
      "bias           0.3213      0.323      0.995      0.324      -0.324       0.967\n",
      "prior         -0.1272      0.732     -0.174      0.863      -1.591       1.337\n",
      "==============================================================================\n",
      "Omnibus:                        4.266   Durbin-Watson:                   1.783\n",
      "Prob(Omnibus):                  0.118   Jarque-Bera (JB):                3.717\n",
      "Skew:                           0.579   Prob(JB):                        0.156\n",
      "Kurtosis:                       3.110   Cond. No.                         9.67\n",
      "==============================================================================\n",
      "\n",
      "Notes:\n",
      "[1] Standard Errors assume that the covariance matrix of the errors is correctly specified.\n"
     ]
    }
   ],
   "source": [
    "X = sm.add_constant(np.vstack((bias,prior)).T)\n",
    "X = pd.DataFrame(X,columns=['constant','bias','prior'])\n",
    "results_base = sm.OLS(trait,X).fit()\n",
    "print(results_base.summary())"
   ]
  },
  {
   "cell_type": "markdown",
   "id": "3606e0a4",
   "metadata": {},
   "source": [
    "#### General Factor model w/ interaction"
   ]
  },
  {
   "cell_type": "code",
   "execution_count": 52,
   "id": "edefbdf3",
   "metadata": {},
   "outputs": [
    {
     "name": "stdout",
     "output_type": "stream",
     "text": [
      "                                OLS Regression Results                               \n",
      "=====================================================================================\n",
      "Dep. Variable:     item_clinical.fa.omega3.g   R-squared:                       0.021\n",
      "Model:                                   OLS   Adj. R-squared:                 -0.027\n",
      "Method:                        Least Squares   F-statistic:                    0.4334\n",
      "Date:                       Mon, 09 May 2022   Prob (F-statistic):              0.730\n",
      "Time:                               12:47:23   Log-Likelihood:                -92.461\n",
      "No. Observations:                         66   AIC:                             192.9\n",
      "Df Residuals:                             62   BIC:                             201.7\n",
      "Df Model:                                  3                                         \n",
      "Covariance Type:                   nonrobust                                         \n",
      "==============================================================================\n",
      "                 coef    std err          t      P>|t|      [0.025      0.975]\n",
      "------------------------------------------------------------------------------\n",
      "constant       0.0232      0.757      0.031      0.976      -1.490       1.537\n",
      "bias           0.0195      0.778      0.025      0.980      -1.536       1.575\n",
      "prior         -0.7867      1.712     -0.459      0.648      -4.209       2.636\n",
      "bias*prior     0.6426      1.506      0.427      0.671      -2.367       3.653\n",
      "==============================================================================\n",
      "Omnibus:                        4.156   Durbin-Watson:                   1.790\n",
      "Prob(Omnibus):                  0.125   Jarque-Bera (JB):                3.584\n",
      "Skew:                           0.567   Prob(JB):                        0.167\n",
      "Kurtosis:                       3.124   Cond. No.                         32.2\n",
      "==============================================================================\n",
      "\n",
      "Notes:\n",
      "[1] Standard Errors assume that the covariance matrix of the errors is correctly specified.\n"
     ]
    }
   ],
   "source": [
    "extra = prior*bias\n",
    "X = sm.add_constant(np.vstack((bias,prior,extra)).T)\n",
    "X = pd.DataFrame(X,columns=['constant','bias','prior','bias*prior'])\n",
    "results = sm.OLS(trait,X).fit()\n",
    "print(results.summary())"
   ]
  },
  {
   "cell_type": "code",
   "execution_count": 53,
   "id": "e8eb44a0",
   "metadata": {},
   "outputs": [
    {
     "data": {
      "text/plain": [
       "(0.1935849494732622, 0.6599494947011193, 1.0)"
      ]
     },
     "execution_count": 53,
     "metadata": {},
     "output_type": "execute_result"
    }
   ],
   "source": [
    "results.compare_lr_test(results_base)"
   ]
  },
  {
   "cell_type": "markdown",
   "id": "6a3bda57",
   "metadata": {},
   "source": [
    "### Regressions (other): predicting factor scores with prior mean and bias "
   ]
  },
  {
   "cell_type": "code",
   "execution_count": 54,
   "id": "9fd0db7a",
   "metadata": {},
   "outputs": [
    {
     "data": {
      "text/html": [
       "<div>\n",
       "<style scoped>\n",
       "    .dataframe tbody tr th:only-of-type {\n",
       "        vertical-align: middle;\n",
       "    }\n",
       "\n",
       "    .dataframe tbody tr th {\n",
       "        vertical-align: top;\n",
       "    }\n",
       "\n",
       "    .dataframe thead th {\n",
       "        text-align: right;\n",
       "    }\n",
       "</style>\n",
       "<table border=\"1\" class=\"dataframe\">\n",
       "  <thead>\n",
       "    <tr style=\"text-align: right;\">\n",
       "      <th></th>\n",
       "      <th>r2</th>\n",
       "      <th>mse</th>\n",
       "      <th>rmse</th>\n",
       "      <th>aic</th>\n",
       "      <th>bic</th>\n",
       "      <th>nllk</th>\n",
       "      <th>alpha</th>\n",
       "      <th>r_pos</th>\n",
       "      <th>v_s</th>\n",
       "      <th>u_u0</th>\n",
       "    </tr>\n",
       "  </thead>\n",
       "  <tbody>\n",
       "    <tr>\n",
       "      <th>0</th>\n",
       "      <td>0.266</td>\n",
       "      <td>0.001</td>\n",
       "      <td>0.024</td>\n",
       "      <td>-89.384</td>\n",
       "      <td>-85.206</td>\n",
       "      <td>-48.692</td>\n",
       "      <td>0.019589</td>\n",
       "      <td>1.501092</td>\n",
       "      <td>350.823520</td>\n",
       "      <td>0.673958</td>\n",
       "    </tr>\n",
       "    <tr>\n",
       "      <th>1</th>\n",
       "      <td>0.832</td>\n",
       "      <td>0.000</td>\n",
       "      <td>0.009</td>\n",
       "      <td>-121.228</td>\n",
       "      <td>-117.050</td>\n",
       "      <td>-64.614</td>\n",
       "      <td>0.039371</td>\n",
       "      <td>1.039619</td>\n",
       "      <td>1000.000000</td>\n",
       "      <td>0.463163</td>\n",
       "    </tr>\n",
       "    <tr>\n",
       "      <th>2</th>\n",
       "      <td>0.788</td>\n",
       "      <td>0.003</td>\n",
       "      <td>0.055</td>\n",
       "      <td>-55.963</td>\n",
       "      <td>-51.785</td>\n",
       "      <td>-31.981</td>\n",
       "      <td>0.148463</td>\n",
       "      <td>0.608571</td>\n",
       "      <td>79.648015</td>\n",
       "      <td>0.558390</td>\n",
       "    </tr>\n",
       "    <tr>\n",
       "      <th>3</th>\n",
       "      <td>0.689</td>\n",
       "      <td>0.001</td>\n",
       "      <td>0.031</td>\n",
       "      <td>-77.589</td>\n",
       "      <td>-73.411</td>\n",
       "      <td>-42.794</td>\n",
       "      <td>0.046052</td>\n",
       "      <td>0.990068</td>\n",
       "      <td>224.057739</td>\n",
       "      <td>0.691020</td>\n",
       "    </tr>\n",
       "    <tr>\n",
       "      <th>4</th>\n",
       "      <td>0.917</td>\n",
       "      <td>0.001</td>\n",
       "      <td>0.033</td>\n",
       "      <td>-76.767</td>\n",
       "      <td>-72.589</td>\n",
       "      <td>-42.384</td>\n",
       "      <td>0.026900</td>\n",
       "      <td>3.469991</td>\n",
       "      <td>72.230015</td>\n",
       "      <td>0.643484</td>\n",
       "    </tr>\n",
       "  </tbody>\n",
       "</table>\n",
       "</div>"
      ],
      "text/plain": [
       "      r2    mse   rmse      aic      bic    nllk     alpha     r_pos  \\\n",
       "0  0.266  0.001  0.024  -89.384  -85.206 -48.692  0.019589  1.501092   \n",
       "1  0.832  0.000  0.009 -121.228 -117.050 -64.614  0.039371  1.039619   \n",
       "2  0.788  0.003  0.055  -55.963  -51.785 -31.981  0.148463  0.608571   \n",
       "3  0.689  0.001  0.031  -77.589  -73.411 -42.794  0.046052  0.990068   \n",
       "4  0.917  0.001  0.033  -76.767  -72.589 -42.384  0.026900  3.469991   \n",
       "\n",
       "           v_s      u_u0  \n",
       "0   350.823520  0.673958  \n",
       "1  1000.000000  0.463163  \n",
       "2    79.648015  0.558390  \n",
       "3   224.057739  0.691020  \n",
       "4    72.230015  0.643484  "
      ]
     },
     "execution_count": 54,
     "metadata": {},
     "output_type": "execute_result"
    }
   ],
   "source": [
    "modelname ='model_RW_update_w_report_samelr_relfbscaling'\n",
    "model_fits_df, params = get_model_fit_data(modelname, df, selfother='other')\n",
    "model_fits_df[['r2', 'mse', 'rmse', 'aic', 'bic', 'nllk','alpha', 'r_pos','v_s', 'u_u0']].head(5)"
   ]
  },
  {
   "cell_type": "markdown",
   "id": "ef2d5bd0",
   "metadata": {},
   "source": [
    "#### Depression model"
   ]
  },
  {
   "cell_type": "code",
   "execution_count": 55,
   "id": "75c51dea",
   "metadata": {},
   "outputs": [],
   "source": [
    "trait_name = 'item_clinical.fa.omega3.anh'\n",
    "trait = df[trait_name]\n",
    "bias = model_fits_df['r_pos'].values\n",
    "prior = model_fits_df['u_u0'].values"
   ]
  },
  {
   "cell_type": "code",
   "execution_count": 56,
   "id": "2c461570",
   "metadata": {},
   "outputs": [
    {
     "name": "stdout",
     "output_type": "stream",
     "text": [
      "                                 OLS Regression Results                                \n",
      "=======================================================================================\n",
      "Dep. Variable:     item_clinical.fa.omega3.anh   R-squared:                       0.054\n",
      "Model:                                     OLS   Adj. R-squared:                  0.024\n",
      "Method:                          Least Squares   F-statistic:                     1.815\n",
      "Date:                         Mon, 09 May 2022   Prob (F-statistic):              0.171\n",
      "Time:                                 12:47:31   Log-Likelihood:                -91.297\n",
      "No. Observations:                           66   AIC:                             188.6\n",
      "Df Residuals:                               63   BIC:                             195.2\n",
      "Df Model:                                    2                                         \n",
      "Covariance Type:                     nonrobust                                         \n",
      "==============================================================================\n",
      "                 coef    std err          t      P>|t|      [0.025      0.975]\n",
      "------------------------------------------------------------------------------\n",
      "constant       0.9018      0.528      1.709      0.092      -0.153       1.956\n",
      "bias           0.1138      0.267      0.426      0.671      -0.420       0.648\n",
      "prior         -1.8787      1.004     -1.870      0.066      -3.886       0.128\n",
      "==============================================================================\n",
      "Omnibus:                        2.938   Durbin-Watson:                   1.775\n",
      "Prob(Omnibus):                  0.230   Jarque-Bera (JB):                2.353\n",
      "Skew:                          -0.457   Prob(JB):                        0.308\n",
      "Kurtosis:                       3.137   Cond. No.                         15.2\n",
      "==============================================================================\n",
      "\n",
      "Notes:\n",
      "[1] Standard Errors assume that the covariance matrix of the errors is correctly specified.\n"
     ]
    }
   ],
   "source": [
    "X = sm.add_constant(np.vstack((bias,prior)).T)\n",
    "X = pd.DataFrame(X,columns=['constant','bias','prior'])\n",
    "results_base = sm.OLS(trait,X).fit()\n",
    "print(results_base.summary())"
   ]
  },
  {
   "cell_type": "markdown",
   "id": "f68217f1",
   "metadata": {},
   "source": [
    "#### Depression model w/ interaction"
   ]
  },
  {
   "cell_type": "code",
   "execution_count": 57,
   "id": "348601e6",
   "metadata": {},
   "outputs": [
    {
     "name": "stdout",
     "output_type": "stream",
     "text": [
      "                                 OLS Regression Results                                \n",
      "=======================================================================================\n",
      "Dep. Variable:     item_clinical.fa.omega3.anh   R-squared:                       0.059\n",
      "Model:                                     OLS   Adj. R-squared:                  0.013\n",
      "Method:                          Least Squares   F-statistic:                     1.292\n",
      "Date:                         Mon, 09 May 2022   Prob (F-statistic):              0.285\n",
      "Time:                                 12:47:32   Log-Likelihood:                -91.145\n",
      "No. Observations:                           66   AIC:                             190.3\n",
      "Df Residuals:                               62   BIC:                             199.0\n",
      "Df Model:                                    3                                         \n",
      "Covariance Type:                     nonrobust                                         \n",
      "==============================================================================\n",
      "                 coef    std err          t      P>|t|      [0.025      0.975]\n",
      "------------------------------------------------------------------------------\n",
      "constant       0.3406      1.175      0.290      0.773      -2.008       2.689\n",
      "bias           0.6361      1.012      0.629      0.532      -1.387       2.659\n",
      "prior         -0.8372      2.192     -0.382      0.704      -5.219       3.545\n",
      "bias*prior    -0.9291      1.736     -0.535      0.594      -4.398       2.540\n",
      "==============================================================================\n",
      "Omnibus:                        1.883   Durbin-Watson:                   1.770\n",
      "Prob(Omnibus):                  0.390   Jarque-Bera (JB):                1.640\n",
      "Skew:                          -0.384   Prob(JB):                        0.440\n",
      "Kurtosis:                       2.916   Cond. No.                         46.3\n",
      "==============================================================================\n",
      "\n",
      "Notes:\n",
      "[1] Standard Errors assume that the covariance matrix of the errors is correctly specified.\n"
     ]
    }
   ],
   "source": [
    "extra = np.zeros_like(bias)\n",
    "extra[(bias<1)&(prior<0.5)]=1.0\n",
    "\n",
    "extra = prior*bias\n",
    "\n",
    "X = sm.add_constant(np.vstack((bias,prior,extra)).T)\n",
    "X = pd.DataFrame(X,columns=['constant','bias','prior','bias*prior'])\n",
    "results = sm.OLS(trait,X).fit()\n",
    "print(results.summary())"
   ]
  },
  {
   "cell_type": "code",
   "execution_count": 58,
   "id": "1b6f7f9a",
   "metadata": {},
   "outputs": [
    {
     "data": {
      "text/plain": [
       "(0.3043695437613678, 0.5811559880959707, 1.0)"
      ]
     },
     "execution_count": 58,
     "metadata": {},
     "output_type": "execute_result"
    }
   ],
   "source": [
    "results.compare_lr_test(results_base)"
   ]
  },
  {
   "cell_type": "markdown",
   "id": "da3fc0ad",
   "metadata": {},
   "source": [
    "#### Anxiety model"
   ]
  },
  {
   "cell_type": "code",
   "execution_count": 59,
   "id": "8a9394c8",
   "metadata": {},
   "outputs": [],
   "source": [
    "trait_name = 'item_clinical.fa.omega3.cog_anx'\n",
    "trait = df[trait_name]"
   ]
  },
  {
   "cell_type": "code",
   "execution_count": 60,
   "id": "e840d5a9",
   "metadata": {},
   "outputs": [
    {
     "name": "stdout",
     "output_type": "stream",
     "text": [
      "                                   OLS Regression Results                                  \n",
      "===========================================================================================\n",
      "Dep. Variable:     item_clinical.fa.omega3.cog_anx   R-squared:                       0.011\n",
      "Model:                                         OLS   Adj. R-squared:                 -0.020\n",
      "Method:                              Least Squares   F-statistic:                    0.3535\n",
      "Date:                             Mon, 09 May 2022   Prob (F-statistic):              0.704\n",
      "Time:                                     12:47:35   Log-Likelihood:                -92.778\n",
      "No. Observations:                               66   AIC:                             191.6\n",
      "Df Residuals:                                   63   BIC:                             198.1\n",
      "Df Model:                                        2                                         \n",
      "Covariance Type:                         nonrobust                                         \n",
      "==============================================================================\n",
      "                 coef    std err          t      P>|t|      [0.025      0.975]\n",
      "------------------------------------------------------------------------------\n",
      "constant      -0.1466      0.540     -0.272      0.787      -1.225       0.932\n",
      "bias          -0.2004      0.273     -0.734      0.466      -0.746       0.345\n",
      "prior          0.6910      1.027      0.673      0.504      -1.362       2.744\n",
      "==============================================================================\n",
      "Omnibus:                        1.184   Durbin-Watson:                   1.926\n",
      "Prob(Omnibus):                  0.553   Jarque-Bera (JB):                1.053\n",
      "Skew:                          -0.109   Prob(JB):                        0.591\n",
      "Kurtosis:                       2.421   Cond. No.                         15.2\n",
      "==============================================================================\n",
      "\n",
      "Notes:\n",
      "[1] Standard Errors assume that the covariance matrix of the errors is correctly specified.\n"
     ]
    }
   ],
   "source": [
    "X = sm.add_constant(np.vstack((bias,prior)).T)\n",
    "X = pd.DataFrame(X,columns=['constant','bias','prior'])\n",
    "results_base = sm.OLS(trait,X).fit()\n",
    "print(results_base.summary())"
   ]
  },
  {
   "cell_type": "markdown",
   "id": "e52c2aa0",
   "metadata": {},
   "source": [
    "#### Anxiety model w/ interaction"
   ]
  },
  {
   "cell_type": "code",
   "execution_count": 61,
   "id": "dde34d32",
   "metadata": {},
   "outputs": [
    {
     "name": "stdout",
     "output_type": "stream",
     "text": [
      "                                   OLS Regression Results                                  \n",
      "===========================================================================================\n",
      "Dep. Variable:     item_clinical.fa.omega3.cog_anx   R-squared:                       0.018\n",
      "Model:                                         OLS   Adj. R-squared:                 -0.029\n",
      "Method:                              Least Squares   F-statistic:                    0.3891\n",
      "Date:                             Mon, 09 May 2022   Prob (F-statistic):              0.761\n",
      "Time:                                     12:47:36   Log-Likelihood:                -92.531\n",
      "No. Observations:                               66   AIC:                             193.1\n",
      "Df Residuals:                                   62   BIC:                             201.8\n",
      "Df Model:                                        3                                         \n",
      "Covariance Type:                         nonrobust                                         \n",
      "==============================================================================\n",
      "                 coef    std err          t      P>|t|      [0.025      0.975]\n",
      "------------------------------------------------------------------------------\n",
      "constant       0.5844      1.200      0.487      0.628      -1.814       2.983\n",
      "bias          -0.8806      1.033     -0.852      0.397      -2.946       1.185\n",
      "prior         -0.6655      2.239     -0.297      0.767      -5.140       3.809\n",
      "bias*prior     1.2102      1.772      0.683      0.497      -2.333       4.753\n",
      "==============================================================================\n",
      "Omnibus:                        1.418   Durbin-Watson:                   1.974\n",
      "Prob(Omnibus):                  0.492   Jarque-Bera (JB):                1.170\n",
      "Skew:                          -0.115   Prob(JB):                        0.557\n",
      "Kurtosis:                       2.390   Cond. No.                         46.3\n",
      "==============================================================================\n",
      "\n",
      "Notes:\n",
      "[1] Standard Errors assume that the covariance matrix of the errors is correctly specified.\n"
     ]
    }
   ],
   "source": [
    "extra = prior*bias\n",
    "X = sm.add_constant(np.vstack((bias,prior,extra)).T)\n",
    "X = pd.DataFrame(X,columns=['constant','bias','prior','bias*prior'])\n",
    "results = sm.OLS(trait,X).fit()\n",
    "print(results.summary())"
   ]
  },
  {
   "cell_type": "code",
   "execution_count": 62,
   "id": "eb7657c0",
   "metadata": {},
   "outputs": [
    {
     "data": {
      "text/plain": [
       "(0.49444077316462653, 0.4819530364081863, 1.0)"
      ]
     },
     "execution_count": 62,
     "metadata": {},
     "output_type": "execute_result"
    }
   ],
   "source": [
    "results.compare_lr_test(results_base)"
   ]
  },
  {
   "cell_type": "markdown",
   "id": "a225e574",
   "metadata": {},
   "source": [
    "#### General Factor model"
   ]
  },
  {
   "cell_type": "code",
   "execution_count": 63,
   "id": "75f43e7e",
   "metadata": {},
   "outputs": [],
   "source": [
    "trait_name = 'item_clinical.fa.omega3.g'\n",
    "trait = df[trait_name]"
   ]
  },
  {
   "cell_type": "code",
   "execution_count": 64,
   "id": "7874d222",
   "metadata": {},
   "outputs": [
    {
     "name": "stdout",
     "output_type": "stream",
     "text": [
      "                                OLS Regression Results                               \n",
      "=====================================================================================\n",
      "Dep. Variable:     item_clinical.fa.omega3.g   R-squared:                       0.005\n",
      "Model:                                   OLS   Adj. R-squared:                 -0.026\n",
      "Method:                        Least Squares   F-statistic:                    0.1725\n",
      "Date:                       Mon, 09 May 2022   Prob (F-statistic):              0.842\n",
      "Time:                               12:47:42   Log-Likelihood:                -92.966\n",
      "No. Observations:                         66   AIC:                             191.9\n",
      "Df Residuals:                             63   BIC:                             198.5\n",
      "Df Model:                                  2                                         \n",
      "Covariance Type:                   nonrobust                                         \n",
      "==============================================================================\n",
      "                 coef    std err          t      P>|t|      [0.025      0.975]\n",
      "------------------------------------------------------------------------------\n",
      "constant       0.3078      0.541      0.569      0.572      -0.774       1.389\n",
      "bias          -0.0428      0.274     -0.156      0.876      -0.590       0.505\n",
      "prior         -0.4680      1.030     -0.454      0.651      -2.527       1.590\n",
      "==============================================================================\n",
      "Omnibus:                        3.531   Durbin-Watson:                   1.890\n",
      "Prob(Omnibus):                  0.171   Jarque-Bera (JB):                3.198\n",
      "Skew:                           0.539   Prob(JB):                        0.202\n",
      "Kurtosis:                       2.946   Cond. No.                         15.2\n",
      "==============================================================================\n",
      "\n",
      "Notes:\n",
      "[1] Standard Errors assume that the covariance matrix of the errors is correctly specified.\n"
     ]
    }
   ],
   "source": [
    "X = sm.add_constant(np.vstack((bias,prior)).T)\n",
    "X = pd.DataFrame(X,columns=['constant','bias','prior'])\n",
    "results_base = sm.OLS(trait,X).fit()\n",
    "print(results_base.summary())"
   ]
  },
  {
   "cell_type": "markdown",
   "id": "4db812f2",
   "metadata": {},
   "source": [
    "#### General Factor model w/ interaction"
   ]
  },
  {
   "cell_type": "code",
   "execution_count": 65,
   "id": "c0a2d950",
   "metadata": {},
   "outputs": [
    {
     "name": "stdout",
     "output_type": "stream",
     "text": [
      "                                OLS Regression Results                               \n",
      "=====================================================================================\n",
      "Dep. Variable:     item_clinical.fa.omega3.g   R-squared:                       0.060\n",
      "Model:                                   OLS   Adj. R-squared:                  0.014\n",
      "Method:                        Least Squares   F-statistic:                     1.309\n",
      "Date:                       Mon, 09 May 2022   Prob (F-statistic):              0.279\n",
      "Time:                               12:47:43   Log-Likelihood:                -91.119\n",
      "No. Observations:                         66   AIC:                             190.2\n",
      "Df Residuals:                             62   BIC:                             199.0\n",
      "Df Model:                                  3                                         \n",
      "Covariance Type:                   nonrobust                                         \n",
      "==============================================================================\n",
      "                 coef    std err          t      P>|t|      [0.025      0.975]\n",
      "------------------------------------------------------------------------------\n",
      "constant       2.2872      1.174      1.948      0.056      -0.060       4.635\n",
      "bias          -1.8851      1.012     -1.864      0.067      -3.907       0.137\n",
      "prior         -4.1418      2.191     -1.890      0.063      -8.522       0.238\n",
      "bias*prior     3.2772      1.735      1.889      0.064      -0.191       6.745\n",
      "==============================================================================\n",
      "Omnibus:                        2.056   Durbin-Watson:                   1.987\n",
      "Prob(Omnibus):                  0.358   Jarque-Bera (JB):                1.740\n",
      "Skew:                           0.397   Prob(JB):                        0.419\n",
      "Kurtosis:                       2.963   Cond. No.                         46.3\n",
      "==============================================================================\n",
      "\n",
      "Notes:\n",
      "[1] Standard Errors assume that the covariance matrix of the errors is correctly specified.\n"
     ]
    }
   ],
   "source": [
    "extra = prior*bias\n",
    "X = sm.add_constant(np.vstack((bias,prior,extra)).T)\n",
    "X = pd.DataFrame(X,columns=['constant','bias','prior','bias*prior'])\n",
    "results = sm.OLS(trait,X).fit()\n",
    "print(results.summary())"
   ]
  },
  {
   "cell_type": "code",
   "execution_count": 66,
   "id": "a3e20745",
   "metadata": {},
   "outputs": [
    {
     "data": {
      "text/plain": [
       "(3.6935653338743464, 0.054622738467248515, 1.0)"
      ]
     },
     "execution_count": 66,
     "metadata": {},
     "output_type": "execute_result"
    }
   ],
   "source": [
    "results.compare_lr_test(results_base)"
   ]
  },
  {
   "cell_type": "markdown",
   "id": "e38b23c9",
   "metadata": {},
   "source": [
    "## Model-Agnostic Statistics"
   ]
  },
  {
   "cell_type": "code",
   "execution_count": 67,
   "id": "07820cc0",
   "metadata": {},
   "outputs": [],
   "source": [
    "starting_others = np.array([df['other_estimate_flipped'][i][0] for i in range(len(df))])\n",
    "starting_self = np.array([df['self_estimate_flipped'][i][0] for i in range(len(df))])\n",
    "ending_others=np.array([df['other_estimate_flipped'][i][-1] for i in range(len(df))])\n",
    "ending_self=np.array([df['self_estimate_flipped'][i][-1] for i in range(len(df))])\n",
    "cb = np.array(df['session3_cb'])\n",
    "feedback_cb = df['self_feedback_cb'].values"
   ]
  },
  {
   "cell_type": "markdown",
   "id": "3df2a219",
   "metadata": {},
   "source": [
    "### Starting Beliefs"
   ]
  },
  {
   "cell_type": "markdown",
   "id": "757a4ca1",
   "metadata": {},
   "source": [
    "#### mean against 50%; t-test"
   ]
  },
  {
   "cell_type": "code",
   "execution_count": 68,
   "id": "36bcad1c",
   "metadata": {},
   "outputs": [
    {
     "name": "stdout",
     "output_type": "stream",
     "text": [
      "0.49181818181818193\n",
      "0.5445454545454547\n",
      "Ttest_relResult(statistic=-1.8226787560687499, pvalue=0.07295180087555451)\n"
     ]
    }
   ],
   "source": [
    "print(np.mean(starting_self))\n",
    "print(np.mean(starting_others))\n",
    "print(ttest_rel(starting_self,starting_others))"
   ]
  },
  {
   "cell_type": "code",
   "execution_count": 69,
   "id": "b6b13430",
   "metadata": {},
   "outputs": [
    {
     "name": "stdout",
     "output_type": "stream",
     "text": [
      "Ttest_indResult(statistic=0.2505780014178754, pvalue=0.8029430860045687)\n",
      "Ttest_indResult(statistic=-0.3939704275854211, pvalue=0.6949124865315609)\n"
     ]
    }
   ],
   "source": [
    "print(ttest_ind(starting_self[cb==1],starting_self[cb==0]))\n",
    "print(ttest_ind(starting_others[cb==1],starting_others[cb==0]))"
   ]
  },
  {
   "cell_type": "markdown",
   "id": "9033e9e6",
   "metadata": {},
   "source": [
    "#### framing and traits"
   ]
  },
  {
   "cell_type": "code",
   "execution_count": 70,
   "id": "22ad6c1a",
   "metadata": {},
   "outputs": [
    {
     "name": "stdout",
     "output_type": "stream",
     "text": [
      "                            OLS Regression Results                            \n",
      "==============================================================================\n",
      "Dep. Variable:                      y   R-squared:                       0.129\n",
      "Model:                            OLS   Adj. R-squared:                  0.086\n",
      "Method:                 Least Squares   F-statistic:                     3.051\n",
      "Date:                Mon, 09 May 2022   Prob (F-statistic):             0.0350\n",
      "Time:                        12:47:49   Log-Likelihood:                 16.591\n",
      "No. Observations:                  66   AIC:                            -25.18\n",
      "Df Residuals:                      62   BIC:                            -16.42\n",
      "Df Model:                           3                                         \n",
      "Covariance Type:            nonrobust                                         \n",
      "==============================================================================\n",
      "                 coef    std err          t      P>|t|      [0.025      0.975]\n",
      "------------------------------------------------------------------------------\n",
      "const          0.4849      0.034     14.126      0.000       0.416       0.553\n",
      "x1            -0.0769      0.045     -1.721      0.090      -0.166       0.012\n",
      "x2             0.0135      0.048      0.281      0.779      -0.082       0.109\n",
      "x3             0.0061      0.053      0.115      0.908      -0.100       0.112\n",
      "==============================================================================\n",
      "Omnibus:                        1.542   Durbin-Watson:                   2.080\n",
      "Prob(Omnibus):                  0.463   Jarque-Bera (JB):                1.217\n",
      "Skew:                          -0.109   Prob(JB):                        0.544\n",
      "Kurtosis:                       2.371   Cond. No.                         3.48\n",
      "==============================================================================\n",
      "\n",
      "Notes:\n",
      "[1] Standard Errors assume that the covariance matrix of the errors is correctly specified.\n",
      "                            OLS Regression Results                            \n",
      "==============================================================================\n",
      "Dep. Variable:                      y   R-squared:                       0.004\n",
      "Model:                            OLS   Adj. R-squared:                 -0.044\n",
      "Method:                 Least Squares   F-statistic:                   0.08679\n",
      "Date:                Mon, 09 May 2022   Prob (F-statistic):              0.967\n",
      "Time:                        12:47:49   Log-Likelihood:                 12.186\n",
      "No. Observations:                  66   AIC:                            -16.37\n",
      "Df Residuals:                      62   BIC:                            -7.613\n",
      "Df Model:                           3                                         \n",
      "Covariance Type:            nonrobust                                         \n",
      "==============================================================================\n",
      "                 coef    std err          t      P>|t|      [0.025      0.975]\n",
      "------------------------------------------------------------------------------\n",
      "const          0.4849      0.037     13.212      0.000       0.412       0.558\n",
      "x1            -0.0152      0.037     -0.415      0.679      -0.088       0.058\n",
      "x2             0.0131      0.051      0.257      0.798      -0.089       0.115\n",
      "x3             0.0092      0.052      0.180      0.858      -0.094       0.112\n",
      "==============================================================================\n",
      "Omnibus:                        5.202   Durbin-Watson:                   1.881\n",
      "Prob(Omnibus):                  0.074   Jarque-Bera (JB):                2.629\n",
      "Skew:                          -0.222   Prob(JB):                        0.269\n",
      "Kurtosis:                       2.129   Cond. No.                         2.68\n",
      "==============================================================================\n",
      "\n",
      "Notes:\n",
      "[1] Standard Errors assume that the covariance matrix of the errors is correctly specified.\n",
      "                            OLS Regression Results                            \n",
      "==============================================================================\n",
      "Dep. Variable:                      y   R-squared:                       0.012\n",
      "Model:                            OLS   Adj. R-squared:                 -0.036\n",
      "Method:                 Least Squares   F-statistic:                    0.2490\n",
      "Date:                Mon, 09 May 2022   Prob (F-statistic):              0.862\n",
      "Time:                        12:47:49   Log-Likelihood:                 12.443\n",
      "No. Observations:                  66   AIC:                            -16.89\n",
      "Df Residuals:                      62   BIC:                            -8.126\n",
      "Df Model:                           3                                         \n",
      "Covariance Type:            nonrobust                                         \n",
      "==============================================================================\n",
      "                 coef    std err          t      P>|t|      [0.025      0.975]\n",
      "------------------------------------------------------------------------------\n",
      "const          0.4780      0.038     12.615      0.000       0.402       0.554\n",
      "x1             0.0290      0.040      0.729      0.469      -0.051       0.108\n",
      "x2             0.0232      0.053      0.441      0.660      -0.082       0.128\n",
      "x3            -0.0151      0.053     -0.283      0.778      -0.122       0.091\n",
      "==============================================================================\n",
      "Omnibus:                        3.355   Durbin-Watson:                   1.877\n",
      "Prob(Omnibus):                  0.187   Jarque-Bera (JB):                2.237\n",
      "Skew:                          -0.257   Prob(JB):                        0.327\n",
      "Kurtosis:                       2.259   Cond. No.                         3.18\n",
      "==============================================================================\n",
      "\n",
      "Notes:\n",
      "[1] Standard Errors assume that the covariance matrix of the errors is correctly specified.\n"
     ]
    }
   ],
   "source": [
    "for trait_name in ['item_clinical.fa.omega3.anh','item_clinical.fa.omega3.cog_anx','item_clinical.fa.omega3.g']:\n",
    "    trait = model_fits_df_self[trait_name]\n",
    "    X = sm.add_constant(np.vstack((trait,framing_cb,trait*framing_cb)).T)\n",
    "    results = sm.OLS(starting_self,X).fit()\n",
    "    print(results.summary())"
   ]
  },
  {
   "cell_type": "markdown",
   "id": "1b96c718",
   "metadata": {},
   "source": [
    "#### correlating (self-other, depression)"
   ]
  },
  {
   "cell_type": "code",
   "execution_count": 71,
   "id": "8d5d7878",
   "metadata": {},
   "outputs": [
    {
     "data": {
      "text/plain": [
       "(-0.2233106120026024, 0.07148943817853512)"
      ]
     },
     "execution_count": 71,
     "metadata": {},
     "output_type": "execute_result"
    }
   ],
   "source": [
    "trait=df['item_clinical.fa.omega3.anh']\n",
    "pearsonr(starting_self-starting_others,trait)"
   ]
  },
  {
   "cell_type": "markdown",
   "id": "e64e55e7",
   "metadata": {},
   "source": [
    "### Start - End (Change in Beliefs)"
   ]
  },
  {
   "cell_type": "markdown",
   "id": "72d7db1a",
   "metadata": {},
   "source": [
    "#### mean; t-test"
   ]
  },
  {
   "cell_type": "code",
   "execution_count": 72,
   "id": "21a0c60b",
   "metadata": {},
   "outputs": [
    {
     "name": "stdout",
     "output_type": "stream",
     "text": [
      "0.00030303030303030666\n",
      "Ttest_1sampResult(statistic=0.015255916937273245, pvalue=0.9878747423963101)\n"
     ]
    }
   ],
   "source": [
    "print(np.mean(starting_self-ending_self))\n",
    "print(ttest_1samp((starting_self-ending_self),0))"
   ]
  },
  {
   "cell_type": "code",
   "execution_count": 73,
   "id": "8bca0da7",
   "metadata": {},
   "outputs": [
    {
     "name": "stdout",
     "output_type": "stream",
     "text": [
      "-0.005757575757575761\n",
      "Ttest_1sampResult(statistic=-0.3198133102301147, pvalue=0.7501355685206179)\n"
     ]
    }
   ],
   "source": [
    "print(np.mean(starting_others-ending_others))\n",
    "print(ttest_1samp((starting_others-ending_others),0))"
   ]
  },
  {
   "cell_type": "markdown",
   "id": "8a7876e3",
   "metadata": {},
   "source": [
    "#### t-test, split by feedback"
   ]
  },
  {
   "cell_type": "code",
   "execution_count": 74,
   "id": "afec7ccf",
   "metadata": {},
   "outputs": [
    {
     "data": {
      "text/plain": [
       "Ttest_indResult(statistic=2.6571422875073054, pvalue=0.009939207834096507)"
      ]
     },
     "execution_count": 74,
     "metadata": {},
     "output_type": "execute_result"
    }
   ],
   "source": [
    "ttest_ind((starting_self-ending_self)[feedback_cb==0],\n",
    "          (starting_self-ending_self)[feedback_cb==1])"
   ]
  },
  {
   "cell_type": "markdown",
   "id": "f20edced",
   "metadata": {},
   "source": [
    "### Correlating Stats with Traits"
   ]
  },
  {
   "cell_type": "markdown",
   "id": "8f492cfb",
   "metadata": {},
   "source": [
    "#### Self"
   ]
  },
  {
   "cell_type": "code",
   "execution_count": 75,
   "id": "885e39bf",
   "metadata": {},
   "outputs": [
    {
     "name": "stdout",
     "output_type": "stream",
     "text": [
      "r=0.09; p=0.485; pvalbh=0.624; pvalbon=1.0; starting_item_clinical.fa.omega3.g\n",
      "r=-0.36; p=0.003; pvalbh=0.027; pvalbon=0.027; starting_item_clinical.fa.omega3.anh\n",
      "r=-0.05; p=0.684; pvalbh=0.766; pvalbon=1.0; starting_item_clinical.fa.omega3.cog_anx\n",
      "r=0.04; p=0.766; pvalbh=0.766; pvalbon=1.0; ending-starting_item_clinical.fa.omega3.g\n",
      "r=0.13; p=0.28; pvalbh=0.489; pvalbon=1.0; ending-starting_item_clinical.fa.omega3.anh\n",
      "r=-0.23; p=0.065; pvalbh=0.146; pvalbon=0.585; ending-starting_item_clinical.fa.omega3.cog_anx\n",
      "r=0.12; p=0.326; pvalbh=0.489; pvalbon=1.0; ending_item_clinical.fa.omega3.g\n",
      "r=-0.26; p=0.034; pvalbh=0.146; pvalbon=0.306; ending_item_clinical.fa.omega3.anh\n",
      "r=-0.24; p=0.049; pvalbh=0.146; pvalbon=0.441; ending_item_clinical.fa.omega3.cog_anx\n"
     ]
    }
   ],
   "source": [
    "pvalues = []\n",
    "names = []\n",
    "prs = []\n",
    "for si,stat in enumerate(['starting','ending-starting','ending']):\n",
    "    for ti,trait in enumerate([\n",
    "        'item_clinical.fa.omega3.g',\n",
    "        'item_clinical.fa.omega3.anh',\n",
    "        'item_clinical.fa.omega3.cog_anx',]):\n",
    "        \n",
    "        if stat=='starting':\n",
    "            y = [df['self_estimate_flipped'][i][0] for i in range(len(df))]\n",
    "        elif stat=='ending-starting':\n",
    "            y = np.array([df['self_estimate_flipped'][i][-1] for i in range(len(df))]-df['starting_beliefs_self'])\n",
    "        elif stat=='ending':\n",
    "            y = np.array([df['self_estimate_flipped'][i][-1] for i in range(len(df))])\n",
    "\n",
    "        x = df[trait].values\n",
    "        \n",
    "        pr,pp = pearsonr(x,y)\n",
    "        pr = np.round(pr,2)\n",
    "        pp = np.round(pp,3)\n",
    "        pvalues.append(pp)\n",
    "        names.append(stat+'_'+trait)\n",
    "        prs.append(pr)\n",
    "        \n",
    "\n",
    "from statsmodels.stats.multitest import multipletests\n",
    "(_,pval_bh,_,_) = multipletests(pvalues,method='fdr_bh')\n",
    "(_,pval_bon,_,_) = multipletests(pvalues,method='bonferroni')\n",
    "\n",
    "for p,p1,p2,n,pr in zip(pvalues,pval_bh,pval_bon,names,prs):\n",
    "    p=np.round(p,3)\n",
    "    p1=np.round(p1,3)\n",
    "    p2=np.round(p2,3)\n",
    "    pr=np.round(pr,2)\n",
    "    print('r={4}; p={0}; pvalbh={1}; pvalbon={2}; {3}'.format(p,p1,p2,n,pr))"
   ]
  },
  {
   "cell_type": "markdown",
   "id": "8ce3c3e8",
   "metadata": {},
   "source": [
    "#### Self - permutation"
   ]
  },
  {
   "cell_type": "code",
   "execution_count": 76,
   "id": "f1e9c874",
   "metadata": {},
   "outputs": [
    {
     "name": "stdout",
     "output_type": "stream",
     "text": [
      "r=0.09; p=0.481; pvalbh=0.618; pvalbon=1.0; starting_item_clinical.fa.omega3.g\n",
      "r=-0.36; p=0.004; pvalbh=0.036; pvalbon=0.036; starting_item_clinical.fa.omega3.anh\n",
      "r=-0.05; p=0.69; pvalbh=0.77; pvalbon=1.0; starting_item_clinical.fa.omega3.cog_anx\n",
      "r=0.04; p=0.77; pvalbh=0.77; pvalbon=1.0; ending-starting_item_clinical.fa.omega3.g\n",
      "r=0.13; p=0.272; pvalbh=0.479; pvalbon=1.0; ending-starting_item_clinical.fa.omega3.anh\n",
      "r=-0.23; p=0.067; pvalbh=0.151; pvalbon=0.603; ending-starting_item_clinical.fa.omega3.cog_anx\n",
      "r=0.12; p=0.319; pvalbh=0.479; pvalbon=1.0; ending_item_clinical.fa.omega3.g\n",
      "r=-0.26; p=0.037; pvalbh=0.15; pvalbon=0.333; ending_item_clinical.fa.omega3.anh\n",
      "r=-0.24; p=0.05; pvalbh=0.15; pvalbon=0.45; ending_item_clinical.fa.omega3.cog_anx\n"
     ]
    }
   ],
   "source": [
    "pvalues = []\n",
    "names = []\n",
    "prs = []\n",
    "for si,stat in enumerate(['starting','ending-starting','ending']):\n",
    "    for ti,trait in enumerate([\n",
    "        'item_clinical.fa.omega3.g',\n",
    "        'item_clinical.fa.omega3.anh',\n",
    "        'item_clinical.fa.omega3.cog_anx',]):\n",
    "        \n",
    "        if stat=='starting':\n",
    "            y = [df['self_estimate_flipped'][i][0] for i in range(len(df))]\n",
    "        elif stat=='ending-starting':\n",
    "            y = np.array([df['self_estimate_flipped'][i][-1] for i in range(len(df))]-df['starting_beliefs_self'])\n",
    "        elif stat=='ending':\n",
    "            y = np.array([df['self_estimate_flipped'][i][-1] for i in range(len(df))])\n",
    "\n",
    "        x = df[trait].values\n",
    "        \n",
    "        #pr,pp = pearsonr(x,y)\n",
    "        pp,pr,_,_,_ = pearson_permutation_test(x,y)\n",
    "        pr = np.round(pr,2)\n",
    "        pp = np.round(pp,3)\n",
    "        pvalues.append(pp)\n",
    "        names.append(stat+'_'+trait)\n",
    "        prs.append(pr)\n",
    "        \n",
    "\n",
    "from statsmodels.stats.multitest import multipletests\n",
    "(_,pval_bh,_,_) = multipletests(pvalues,method='fdr_bh')\n",
    "(_,pval_bon,_,_) = multipletests(pvalues,method='bonferroni')\n",
    "\n",
    "for p,p1,p2,n,pr in zip(pvalues,pval_bh,pval_bon,names,prs):\n",
    "    p=np.round(p,3)\n",
    "    p1=np.round(p1,3)\n",
    "    p2=np.round(p2,3)\n",
    "    pr=np.round(pr,2)\n",
    "    print('r={4}; p={0}; pvalbh={1}; pvalbon={2}; {3}'.format(p,p1,p2,n,pr))"
   ]
  },
  {
   "cell_type": "markdown",
   "id": "6b1e7204",
   "metadata": {},
   "source": [
    "#### Others"
   ]
  },
  {
   "cell_type": "code",
   "execution_count": 77,
   "id": "90f776ce",
   "metadata": {},
   "outputs": [
    {
     "name": "stdout",
     "output_type": "stream",
     "text": [
      "r=-0.08; p=0.531; pvalbh=0.729; pvalbon=1.0; starting_item_clinical.fa.omega3.g\n",
      "r=-0.14; p=0.25; pvalbh=0.729; pvalbon=1.0; starting_item_clinical.fa.omega3.anh\n",
      "r=0.06; p=0.619; pvalbh=0.729; pvalbon=1.0; starting_item_clinical.fa.omega3.cog_anx\n",
      "r=-0.11; p=0.378; pvalbh=0.729; pvalbon=1.0; ending-starting_item_clinical.fa.omega3.g\n",
      "r=0.06; p=0.648; pvalbh=0.729; pvalbon=1.0; ending-starting_item_clinical.fa.omega3.anh\n",
      "r=-0.09; p=0.486; pvalbh=0.729; pvalbon=1.0; ending-starting_item_clinical.fa.omega3.cog_anx\n",
      "r=-0.15; p=0.226; pvalbh=0.729; pvalbon=1.0; ending_item_clinical.fa.omega3.g\n",
      "r=-0.06; p=0.605; pvalbh=0.729; pvalbon=1.0; ending_item_clinical.fa.omega3.anh\n",
      "r=-0.02; p=0.857; pvalbh=0.857; pvalbon=1.0; ending_item_clinical.fa.omega3.cog_anx\n"
     ]
    }
   ],
   "source": [
    "pvalues = []\n",
    "names = []\n",
    "prs = []\n",
    "for si,stat in enumerate(['starting','ending-starting','ending']):\n",
    "    for ti,trait in enumerate([\n",
    "        'item_clinical.fa.omega3.g',\n",
    "        'item_clinical.fa.omega3.anh',\n",
    "        'item_clinical.fa.omega3.cog_anx',]):\n",
    "        \n",
    "        if stat=='starting':\n",
    "            y = [df['other_estimate_flipped'][i][0] for i in range(len(df))]\n",
    "        elif stat=='ending-starting':\n",
    "            y = np.array([df['other_estimate_flipped'][i][-1] for i in range(len(df))]-df['starting_beliefs_other'])\n",
    "        elif stat=='ending':\n",
    "            y = np.array([df['other_estimate_flipped'][i][-1] for i in range(len(df))])\n",
    "\n",
    "                   \n",
    "        x = df[trait].values\n",
    "        \n",
    "        pr,pp = pearsonr(x,y)\n",
    "        pr = np.round(pr,2)\n",
    "        pp = np.round(pp,3)\n",
    "        pvalues.append(pp)\n",
    "        names.append(stat+'_'+trait)\n",
    "        prs.append(pr)\n",
    "\n",
    "from statsmodels.stats.multitest import multipletests\n",
    "(_,pval_bh,_,_) = multipletests(pvalues,method='fdr_bh')\n",
    "(_,pval_bon,_,_) = multipletests(pvalues,method='bonferroni')\n",
    "\n",
    "for p,p1,p2,n,pr in zip(pvalues,pval_bh,pval_bon,names,prs):\n",
    "    p=np.round(p,3)\n",
    "    p1=np.round(p1,3)\n",
    "    p2=np.round(p2,3)\n",
    "    pr=np.round(pr,2)\n",
    "    print('r={4}; p={0}; pvalbh={1}; pvalbon={2}; {3}'.format(p,p1,p2,n,pr))"
   ]
  },
  {
   "cell_type": "markdown",
   "id": "a1949513",
   "metadata": {},
   "source": [
    "### Popularity"
   ]
  },
  {
   "cell_type": "markdown",
   "id": "7c5a3e0d",
   "metadata": {},
   "source": [
    "#### self/other difference"
   ]
  },
  {
   "cell_type": "code",
   "execution_count": 78,
   "id": "df6ca50a",
   "metadata": {},
   "outputs": [],
   "source": [
    "df_everyone = pd.read_csv('../data_for_model_fitting/data_everyone_from_session2.csv')"
   ]
  },
  {
   "cell_type": "code",
   "execution_count": 79,
   "id": "14707aaa",
   "metadata": {},
   "outputs": [],
   "source": [
    "# find the person that each person was assigned to \n",
    "popularity_selfs = []\n",
    "popularity_others = []\n",
    "\n",
    "for i in range(len(df)):\n",
    "    other_id = df['other_feedback_pair0'].values[i][0]\n",
    "    popularity_self = df['%_selected'].values[i]\n",
    "    popularity_other = df_everyone.loc[df_everyone['MID']==other_id,'%_selected'].values\n",
    "    \n",
    "    if len(popularity_other)>0:\n",
    "        popularity_others.append(popularity_other[0])\n",
    "        popularity_selfs.append(popularity_self)\n",
    "    else:\n",
    "        print(i)\n",
    "    \n",
    "popularity_others = np.array(popularity_others)\n",
    "popularity_selfs = np.array(popularity_selfs)"
   ]
  },
  {
   "cell_type": "code",
   "execution_count": 80,
   "id": "56842463",
   "metadata": {},
   "outputs": [
    {
     "data": {
      "text/plain": [
       "Ttest_relResult(statistic=1.3835819700913805, pvalue=0.1712198432622742)"
      ]
     },
     "execution_count": 80,
     "metadata": {},
     "output_type": "execute_result"
    }
   ],
   "source": [
    "ttest_rel(popularity_others,popularity_selfs)"
   ]
  },
  {
   "cell_type": "code",
   "execution_count": 81,
   "id": "79aae415",
   "metadata": {},
   "outputs": [
    {
     "data": {
      "text/plain": [
       "0.024944242392229806"
      ]
     },
     "execution_count": 81,
     "metadata": {},
     "output_type": "execute_result"
    }
   ],
   "source": [
    "np.mean(popularity_others-popularity_selfs)"
   ]
  },
  {
   "cell_type": "code",
   "execution_count": 82,
   "id": "4a937625",
   "metadata": {},
   "outputs": [
    {
     "name": "stdout",
     "output_type": "stream",
     "text": [
      "0.5328701473787174\n",
      "0.5079259049864877\n"
     ]
    }
   ],
   "source": [
    "print(np.mean(popularity_others))\n",
    "print(np.mean(popularity_selfs))"
   ]
  },
  {
   "cell_type": "markdown",
   "id": "723c7008",
   "metadata": {},
   "source": [
    "#### Does this impact optimistic prior beliefs?"
   ]
  },
  {
   "cell_type": "code",
   "execution_count": 83,
   "id": "542b011e",
   "metadata": {},
   "outputs": [],
   "source": [
    "starting_beliefs_self = df['starting_beliefs_self'].values\n",
    "starting_beliefs_others = df['starting_beliefs_other'].values\n",
    "\n",
    "starting_beliefs_self = model_fits_df_self['u_u0'].values\n",
    "starting_beliefs_others = model_fits_df_other['u_u0'].values"
   ]
  },
  {
   "cell_type": "code",
   "execution_count": 84,
   "id": "3f6c2e50",
   "metadata": {},
   "outputs": [
    {
     "data": {
      "text/plain": [
       "0.5508018615410876"
      ]
     },
     "execution_count": 84,
     "metadata": {},
     "output_type": "execute_result"
    }
   ],
   "source": [
    "np.mean(starting_beliefs_others)"
   ]
  },
  {
   "cell_type": "code",
   "execution_count": 85,
   "id": "8e86c41c",
   "metadata": {},
   "outputs": [
    {
     "name": "stdout",
     "output_type": "stream",
     "text": [
      "0.017931714162370185\n",
      "Ttest_1sampResult(statistic=0.8065698241858271, pvalue=0.4228557176129579)\n"
     ]
    }
   ],
   "source": [
    "diff = (starting_beliefs_others-popularity_others)\n",
    "print(diff.mean())\n",
    "print(ttest_1samp(diff,0))"
   ]
  },
  {
   "cell_type": "code",
   "execution_count": 86,
   "id": "d5405495",
   "metadata": {},
   "outputs": [
    {
     "name": "stdout",
     "output_type": "stream",
     "text": [
      "Ttest_relResult(statistic=-2.029283879743809, pvalue=0.0465281368692308)\n"
     ]
    }
   ],
   "source": [
    "print(ttest_rel(starting_beliefs_self,starting_beliefs_others))"
   ]
  },
  {
   "cell_type": "code",
   "execution_count": 87,
   "id": "517ea676",
   "metadata": {},
   "outputs": [
    {
     "name": "stdout",
     "output_type": "stream",
     "text": [
      "Ttest_relResult(statistic=-0.8218098203474341, pvalue=0.41418947187299426)\n"
     ]
    }
   ],
   "source": [
    "print(ttest_rel(starting_beliefs_self-popularity_selfs,starting_beliefs_others-popularity_others))"
   ]
  },
  {
   "cell_type": "code",
   "execution_count": 88,
   "id": "309622aa",
   "metadata": {},
   "outputs": [
    {
     "name": "stdout",
     "output_type": "stream",
     "text": [
      "0.05238737802129305\n",
      "0.024944242392229806\n",
      "0.027443135629063257\n",
      "0.027443135629063253\n",
      "Ttest_1sampResult(statistic=2.029283879743809, pvalue=0.0465281368692308)\n",
      "Ttest_1sampResult(statistic=1.3835819700913805, pvalue=0.1712198432622742)\n",
      "Ttest_1sampResult(statistic=0.8218098203474342, pvalue=0.41418947187299426)\n",
      "Ttest_1sampResult(statistic=0.8218098203474341, pvalue=0.41418947187299426)\n"
     ]
    }
   ],
   "source": [
    "diff1 = (starting_beliefs_others-starting_beliefs_self)\n",
    "diff2 = (popularity_others-popularity_selfs)\n",
    "diff = diff1-diff2\n",
    "diff3 = (starting_beliefs_others-popularity_others) - (starting_beliefs_self-popularity_selfs)\n",
    "print(diff1.mean())\n",
    "print(diff2.mean())\n",
    "print(diff.mean())\n",
    "print(diff3.mean())\n",
    "print(ttest_1samp(diff1,0))\n",
    "print(ttest_1samp(diff2,0))\n",
    "print(ttest_1samp(diff,0))\n",
    "print(ttest_1samp(diff3,0))"
   ]
  },
  {
   "cell_type": "code",
   "execution_count": 89,
   "id": "41ef0708",
   "metadata": {},
   "outputs": [],
   "source": [
    "self_other = np.concatenate((np.ones_like(starting_beliefs_self),np.zeros_like(starting_beliefs_others)))\n",
    "sb = np.concatenate((starting_beliefs_self,starting_beliefs_others))\n",
    "pop = np.concatenate((popularity_selfs,popularity_others))\n",
    "X = np.vstack((self_other,pop)).T\n",
    "X = sm.add_constant(X)"
   ]
  },
  {
   "cell_type": "code",
   "execution_count": 90,
   "id": "a66442e4",
   "metadata": {},
   "outputs": [
    {
     "name": "stdout",
     "output_type": "stream",
     "text": [
      "Ttest_indResult(statistic=-1.7874327178513876, pvalue=0.07619753604581446)\n",
      "Ttest_relResult(statistic=-2.029283879743809, pvalue=0.0465281368692308)\n"
     ]
    }
   ],
   "source": [
    "print(ttest_ind(starting_beliefs_self,starting_beliefs_others))\n",
    "print(ttest_rel(starting_beliefs_self,starting_beliefs_others))"
   ]
  },
  {
   "cell_type": "code",
   "execution_count": 91,
   "id": "e76d2d6b",
   "metadata": {},
   "outputs": [
    {
     "name": "stdout",
     "output_type": "stream",
     "text": [
      "                            OLS Regression Results                            \n",
      "==============================================================================\n",
      "Dep. Variable:                      y   R-squared:                       0.024\n",
      "Model:                            OLS   Adj. R-squared:                  0.016\n",
      "Method:                 Least Squares   F-statistic:                     3.195\n",
      "Date:                Mon, 09 May 2022   Prob (F-statistic):             0.0762\n",
      "Time:                        12:48:17   Log-Likelihood:                 48.881\n",
      "No. Observations:                 132   AIC:                            -93.76\n",
      "Df Residuals:                     130   BIC:                            -88.00\n",
      "Df Model:                           1                                         \n",
      "Covariance Type:            nonrobust                                         \n",
      "==============================================================================\n",
      "                 coef    std err          t      P>|t|      [0.025      0.975]\n",
      "------------------------------------------------------------------------------\n",
      "const          0.5508      0.021     26.577      0.000       0.510       0.592\n",
      "x1            -0.0524      0.029     -1.787      0.076      -0.110       0.006\n",
      "==============================================================================\n",
      "Omnibus:                        2.405   Durbin-Watson:                   2.017\n",
      "Prob(Omnibus):                  0.300   Jarque-Bera (JB):                2.276\n",
      "Skew:                          -0.244   Prob(JB):                        0.321\n",
      "Kurtosis:                       2.581   Cond. No.                         2.62\n",
      "==============================================================================\n",
      "\n",
      "Notes:\n",
      "[1] Standard Errors assume that the covariance matrix of the errors is correctly specified.\n"
     ]
    }
   ],
   "source": [
    "results = sm.OLS(sb,X[:,0:2]).fit()\n",
    "print(results.summary())"
   ]
  },
  {
   "cell_type": "code",
   "execution_count": 92,
   "id": "a3179dc0",
   "metadata": {},
   "outputs": [
    {
     "name": "stdout",
     "output_type": "stream",
     "text": [
      "                            OLS Regression Results                            \n",
      "==============================================================================\n",
      "Dep. Variable:                      y   R-squared:                       0.024\n",
      "Model:                            OLS   Adj. R-squared:                  0.009\n",
      "Method:                 Least Squares   F-statistic:                     1.586\n",
      "Date:                Mon, 09 May 2022   Prob (F-statistic):              0.209\n",
      "Time:                        12:48:18   Log-Likelihood:                 48.882\n",
      "No. Observations:                 132   AIC:                            -91.76\n",
      "Df Residuals:                     129   BIC:                            -83.12\n",
      "Df Model:                           2                                         \n",
      "Covariance Type:            nonrobust                                         \n",
      "==============================================================================\n",
      "                 coef    std err          t      P>|t|      [0.025      0.975]\n",
      "------------------------------------------------------------------------------\n",
      "const          0.5528      0.050     11.098      0.000       0.454       0.651\n",
      "x1            -0.0525      0.029     -1.779      0.078      -0.111       0.006\n",
      "x2            -0.0037      0.085     -0.043      0.965      -0.172       0.164\n",
      "==============================================================================\n",
      "Omnibus:                        2.434   Durbin-Watson:                   2.016\n",
      "Prob(Omnibus):                  0.296   Jarque-Bera (JB):                2.297\n",
      "Skew:                          -0.245   Prob(JB):                        0.317\n",
      "Kurtosis:                       2.579   Cond. No.                         8.25\n",
      "==============================================================================\n",
      "\n",
      "Notes:\n",
      "[1] Standard Errors assume that the covariance matrix of the errors is correctly specified.\n"
     ]
    }
   ],
   "source": [
    "results = sm.OLS(sb,X).fit()\n",
    "print(results.summary())"
   ]
  },
  {
   "cell_type": "code",
   "execution_count": 93,
   "id": "5c7a98ec",
   "metadata": {},
   "outputs": [
    {
     "name": "stdout",
     "output_type": "stream",
     "text": [
      "                            OLS Regression Results                            \n",
      "==============================================================================\n",
      "Dep. Variable:                      y   R-squared:                       0.000\n",
      "Model:                            OLS   Adj. R-squared:                 -0.008\n",
      "Method:                 Least Squares   F-statistic:                  0.007032\n",
      "Date:                Mon, 09 May 2022   Prob (F-statistic):              0.933\n",
      "Time:                        12:48:18   Log-Likelihood:                 47.282\n",
      "No. Observations:                 132   AIC:                            -90.56\n",
      "Df Residuals:                     130   BIC:                            -84.80\n",
      "Df Model:                           1                                         \n",
      "Covariance Type:            nonrobust                                         \n",
      "==============================================================================\n",
      "                 coef    std err          t      P>|t|      [0.025      0.975]\n",
      "------------------------------------------------------------------------------\n",
      "const          0.5209      0.047     11.116      0.000       0.428       0.614\n",
      "x1             0.0072      0.085      0.084      0.933      -0.162       0.176\n",
      "==============================================================================\n",
      "Omnibus:                        4.186   Durbin-Watson:                   1.979\n",
      "Prob(Omnibus):                  0.123   Jarque-Bera (JB):                4.193\n",
      "Skew:                          -0.402   Prob(JB):                        0.123\n",
      "Kurtosis:                       2.661   Cond. No.                         7.36\n",
      "==============================================================================\n",
      "\n",
      "Notes:\n",
      "[1] Standard Errors assume that the covariance matrix of the errors is correctly specified.\n"
     ]
    }
   ],
   "source": [
    "results = sm.OLS(sb,X[:,[0,2]]).fit()\n",
    "print(results.summary())"
   ]
  },
  {
   "cell_type": "code",
   "execution_count": 94,
   "id": "bccd45a1",
   "metadata": {},
   "outputs": [
    {
     "data": {
      "text/plain": [
       "(0.007354734531761543, 0.933297420651925)"
      ]
     },
     "execution_count": 94,
     "metadata": {},
     "output_type": "execute_result"
    }
   ],
   "source": [
    "pearsonr(pop,sb)"
   ]
  },
  {
   "cell_type": "code",
   "execution_count": 95,
   "id": "9d3d31ce",
   "metadata": {},
   "outputs": [
    {
     "data": {
      "text/plain": [
       "(-0.07392180697020341, 0.555272992951966)"
      ]
     },
     "execution_count": 95,
     "metadata": {},
     "output_type": "execute_result"
    }
   ],
   "source": [
    "pearsonr(starting_beliefs_self,popularity_selfs)"
   ]
  },
  {
   "cell_type": "code",
   "execution_count": 96,
   "id": "6514c88e",
   "metadata": {},
   "outputs": [
    {
     "data": {
      "text/plain": [
       "(0.143028392595985, 0.25193223858495)"
      ]
     },
     "execution_count": 96,
     "metadata": {},
     "output_type": "execute_result"
    }
   ],
   "source": [
    "pearsonr(starting_beliefs_others,popularity_others)"
   ]
  },
  {
   "cell_type": "code",
   "execution_count": 97,
   "id": "7419c3e2",
   "metadata": {},
   "outputs": [
    {
     "data": {
      "text/html": [
       "<div>\n",
       "<style scoped>\n",
       "    .dataframe tbody tr th:only-of-type {\n",
       "        vertical-align: middle;\n",
       "    }\n",
       "\n",
       "    .dataframe tbody tr th {\n",
       "        vertical-align: top;\n",
       "    }\n",
       "\n",
       "    .dataframe thead th {\n",
       "        text-align: right;\n",
       "    }\n",
       "</style>\n",
       "<table border=\"1\" class=\"dataframe\">\n",
       "  <thead>\n",
       "    <tr style=\"text-align: right;\">\n",
       "      <th></th>\n",
       "      <th>const</th>\n",
       "      <th>self_other</th>\n",
       "      <th>pop</th>\n",
       "      <th>starting</th>\n",
       "      <th>participant</th>\n",
       "      <th>pop_starting</th>\n",
       "      <th>pop_demeaned</th>\n",
       "    </tr>\n",
       "  </thead>\n",
       "  <tbody>\n",
       "    <tr>\n",
       "      <th>0</th>\n",
       "      <td>1.0</td>\n",
       "      <td>1.0</td>\n",
       "      <td>0.277778</td>\n",
       "      <td>0.592131</td>\n",
       "      <td>0</td>\n",
       "      <td>-0.314353</td>\n",
       "      <td>-0.242620</td>\n",
       "    </tr>\n",
       "    <tr>\n",
       "      <th>1</th>\n",
       "      <td>1.0</td>\n",
       "      <td>1.0</td>\n",
       "      <td>0.600000</td>\n",
       "      <td>0.777881</td>\n",
       "      <td>1</td>\n",
       "      <td>-0.177881</td>\n",
       "      <td>0.079602</td>\n",
       "    </tr>\n",
       "    <tr>\n",
       "      <th>2</th>\n",
       "      <td>1.0</td>\n",
       "      <td>1.0</td>\n",
       "      <td>0.250000</td>\n",
       "      <td>0.324754</td>\n",
       "      <td>2</td>\n",
       "      <td>-0.074754</td>\n",
       "      <td>-0.270398</td>\n",
       "    </tr>\n",
       "    <tr>\n",
       "      <th>3</th>\n",
       "      <td>1.0</td>\n",
       "      <td>1.0</td>\n",
       "      <td>0.294118</td>\n",
       "      <td>0.745758</td>\n",
       "      <td>3</td>\n",
       "      <td>-0.451640</td>\n",
       "      <td>-0.226280</td>\n",
       "    </tr>\n",
       "    <tr>\n",
       "      <th>4</th>\n",
       "      <td>1.0</td>\n",
       "      <td>1.0</td>\n",
       "      <td>0.625000</td>\n",
       "      <td>0.491811</td>\n",
       "      <td>4</td>\n",
       "      <td>0.133189</td>\n",
       "      <td>0.104602</td>\n",
       "    </tr>\n",
       "  </tbody>\n",
       "</table>\n",
       "</div>"
      ],
      "text/plain": [
       "   const  self_other       pop  starting  participant  pop_starting  \\\n",
       "0    1.0         1.0  0.277778  0.592131            0     -0.314353   \n",
       "1    1.0         1.0  0.600000  0.777881            1     -0.177881   \n",
       "2    1.0         1.0  0.250000  0.324754            2     -0.074754   \n",
       "3    1.0         1.0  0.294118  0.745758            3     -0.451640   \n",
       "4    1.0         1.0  0.625000  0.491811            4      0.133189   \n",
       "\n",
       "   pop_demeaned  \n",
       "0     -0.242620  \n",
       "1      0.079602  \n",
       "2     -0.270398  \n",
       "3     -0.226280  \n",
       "4      0.104602  "
      ]
     },
     "execution_count": 97,
     "metadata": {},
     "output_type": "execute_result"
    }
   ],
   "source": [
    "data_for_sm = pd.DataFrame(X,columns=['const','self_other','pop'])\n",
    "data_for_sm['starting']=sb\n",
    "data_for_sm['participant']=np.concatenate((np.arange(len(starting_beliefs_self)),\n",
    "               np.arange(len(starting_beliefs_self))))\n",
    "data_for_sm['pop_starting']=data_for_sm['pop']-data_for_sm['starting']\n",
    "data_for_sm['pop_demeaned']=data_for_sm['pop']-np.mean(data_for_sm['pop'])\n",
    "data_for_sm.head(5)"
   ]
  },
  {
   "cell_type": "code",
   "execution_count": 98,
   "id": "cf1817c2",
   "metadata": {},
   "outputs": [],
   "source": [
    "import statsmodels.formula.api as smf"
   ]
  },
  {
   "cell_type": "code",
   "execution_count": 99,
   "id": "1dd025c2",
   "metadata": {},
   "outputs": [
    {
     "name": "stderr",
     "output_type": "stream",
     "text": [
      "/Users/chrisgagne/opt/miniconda3/envs/env_belief_updating/lib/python3.9/site-packages/statsmodels/regression/mixed_linear_model.py:2237: ConvergenceWarning: The MLE may be on the boundary of the parameter space.\n",
      "  warnings.warn(msg, ConvergenceWarning)\n"
     ]
    },
    {
     "data": {
      "text/html": [
       "<table class=\"simpletable\">\n",
       "<tr>\n",
       "       <td>Model:</td>       <td>MixedLM</td> <td>Dependent Variable:</td> <td>starting</td>\n",
       "</tr>\n",
       "<tr>\n",
       "  <td>No. Observations:</td>   <td>132</td>         <td>Method:</td>         <td>REML</td>  \n",
       "</tr>\n",
       "<tr>\n",
       "     <td>No. Groups:</td>      <td>66</td>          <td>Scale:</td>         <td>0.0220</td> \n",
       "</tr>\n",
       "<tr>\n",
       "  <td>Min. group size:</td>     <td>2</td>      <td>Log-Likelihood:</td>    <td>44.6339</td>\n",
       "</tr>\n",
       "<tr>\n",
       "  <td>Max. group size:</td>     <td>2</td>        <td>Converged:</td>         <td>Yes</td>  \n",
       "</tr>\n",
       "<tr>\n",
       "  <td>Mean group size:</td>    <td>2.0</td>            <td></td>               <td></td>    \n",
       "</tr>\n",
       "</table>\n",
       "<table class=\"simpletable\">\n",
       "<tr>\n",
       "       <td></td>       <th>Coef.</th> <th>Std.Err.</th>    <th>z</th>   <th>P>|z|</th> <th>[0.025</th> <th>0.975]</th>\n",
       "</tr>\n",
       "<tr>\n",
       "  <th>Intercept</th>   <td>0.551</td>   <td>0.021</td>  <td>26.577</td> <td>0.000</td>  <td>0.510</td>  <td>0.591</td>\n",
       "</tr>\n",
       "<tr>\n",
       "  <th>self_other</th> <td>-0.052</td>   <td>0.026</td>  <td>-2.029</td> <td>0.042</td> <td>-0.103</td> <td>-0.002</td>\n",
       "</tr>\n",
       "<tr>\n",
       "  <th>Group Var</th>   <td>0.006</td>   <td>0.029</td>     <td></td>      <td></td>       <td></td>       <td></td>   \n",
       "</tr>\n",
       "</table>"
      ],
      "text/plain": [
       "<class 'statsmodels.iolib.summary2.Summary'>\n",
       "\"\"\"\n",
       "        Mixed Linear Model Regression Results\n",
       "======================================================\n",
       "Model:            MixedLM Dependent Variable: starting\n",
       "No. Observations: 132     Method:             REML    \n",
       "No. Groups:       66      Scale:              0.0220  \n",
       "Min. group size:  2       Log-Likelihood:     44.6339 \n",
       "Max. group size:  2       Converged:          Yes     \n",
       "Mean group size:  2.0                                 \n",
       "------------------------------------------------------\n",
       "            Coef.  Std.Err.   z    P>|z| [0.025 0.975]\n",
       "------------------------------------------------------\n",
       "Intercept    0.551    0.021 26.577 0.000  0.510  0.591\n",
       "self_other  -0.052    0.026 -2.029 0.042 -0.103 -0.002\n",
       "Group Var    0.006    0.029                           \n",
       "======================================================\n",
       "\n",
       "\"\"\""
      ]
     },
     "execution_count": 99,
     "metadata": {},
     "output_type": "execute_result"
    }
   ],
   "source": [
    "md = smf.mixedlm(\"starting ~ self_other\", data_for_sm, groups=data_for_sm[\"participant\"])\n",
    "mdf = md.fit()\n",
    "mdf.summary()"
   ]
  },
  {
   "cell_type": "code",
   "execution_count": 100,
   "id": "cdb9b759",
   "metadata": {},
   "outputs": [
    {
     "name": "stderr",
     "output_type": "stream",
     "text": [
      "/Users/chrisgagne/opt/miniconda3/envs/env_belief_updating/lib/python3.9/site-packages/statsmodels/regression/mixed_linear_model.py:2237: ConvergenceWarning: The MLE may be on the boundary of the parameter space.\n",
      "  warnings.warn(msg, ConvergenceWarning)\n"
     ]
    },
    {
     "data": {
      "text/html": [
       "<table class=\"simpletable\">\n",
       "<tr>\n",
       "       <td>Model:</td>       <td>MixedLM</td> <td>Dependent Variable:</td> <td>starting</td>\n",
       "</tr>\n",
       "<tr>\n",
       "  <td>No. Observations:</td>   <td>132</td>         <td>Method:</td>         <td>REML</td>  \n",
       "</tr>\n",
       "<tr>\n",
       "     <td>No. Groups:</td>      <td>66</td>          <td>Scale:</td>         <td>0.0220</td> \n",
       "</tr>\n",
       "<tr>\n",
       "  <td>Min. group size:</td>     <td>2</td>      <td>Log-Likelihood:</td>    <td>43.1666</td>\n",
       "</tr>\n",
       "<tr>\n",
       "  <td>Max. group size:</td>     <td>2</td>        <td>Converged:</td>         <td>Yes</td>  \n",
       "</tr>\n",
       "<tr>\n",
       "  <td>Mean group size:</td>    <td>2.0</td>            <td></td>               <td></td>    \n",
       "</tr>\n",
       "</table>\n",
       "<table class=\"simpletable\">\n",
       "<tr>\n",
       "       <td></td>       <th>Coef.</th> <th>Std.Err.</th>    <th>z</th>   <th>P>|z|</th> <th>[0.025</th> <th>0.975]</th>\n",
       "</tr>\n",
       "<tr>\n",
       "  <th>Intercept</th>   <td>0.562</td>   <td>0.052</td>  <td>10.724</td> <td>0.000</td>  <td>0.460</td>  <td>0.665</td>\n",
       "</tr>\n",
       "<tr>\n",
       "  <th>self_other</th> <td>-0.053</td>   <td>0.026</td>  <td>-2.042</td> <td>0.041</td> <td>-0.104</td> <td>-0.002</td>\n",
       "</tr>\n",
       "<tr>\n",
       "  <th>pop</th>        <td>-0.022</td>   <td>0.090</td>  <td>-0.238</td> <td>0.812</td> <td>-0.199</td>  <td>0.155</td>\n",
       "</tr>\n",
       "<tr>\n",
       "  <th>Group Var</th>   <td>0.007</td>   <td>0.030</td>     <td></td>      <td></td>       <td></td>       <td></td>   \n",
       "</tr>\n",
       "</table>"
      ],
      "text/plain": [
       "<class 'statsmodels.iolib.summary2.Summary'>\n",
       "\"\"\"\n",
       "        Mixed Linear Model Regression Results\n",
       "======================================================\n",
       "Model:            MixedLM Dependent Variable: starting\n",
       "No. Observations: 132     Method:             REML    \n",
       "No. Groups:       66      Scale:              0.0220  \n",
       "Min. group size:  2       Log-Likelihood:     43.1666 \n",
       "Max. group size:  2       Converged:          Yes     \n",
       "Mean group size:  2.0                                 \n",
       "------------------------------------------------------\n",
       "            Coef.  Std.Err.   z    P>|z| [0.025 0.975]\n",
       "------------------------------------------------------\n",
       "Intercept    0.562    0.052 10.724 0.000  0.460  0.665\n",
       "self_other  -0.053    0.026 -2.042 0.041 -0.104 -0.002\n",
       "pop         -0.022    0.090 -0.238 0.812 -0.199  0.155\n",
       "Group Var    0.007    0.030                           \n",
       "======================================================\n",
       "\n",
       "\"\"\""
      ]
     },
     "execution_count": 100,
     "metadata": {},
     "output_type": "execute_result"
    }
   ],
   "source": [
    "md = smf.mixedlm(\"starting ~ self_other + pop\", data_for_sm, groups=data_for_sm[\"participant\"])\n",
    "mdf = md.fit()\n",
    "mdf.summary()"
   ]
  },
  {
   "cell_type": "code",
   "execution_count": 101,
   "id": "ca8266d6",
   "metadata": {},
   "outputs": [
    {
     "name": "stderr",
     "output_type": "stream",
     "text": [
      "/Users/chrisgagne/opt/miniconda3/envs/env_belief_updating/lib/python3.9/site-packages/statsmodels/regression/mixed_linear_model.py:2237: ConvergenceWarning: The MLE may be on the boundary of the parameter space.\n",
      "  warnings.warn(msg, ConvergenceWarning)\n"
     ]
    },
    {
     "data": {
      "text/html": [
       "<table class=\"simpletable\">\n",
       "<tr>\n",
       "       <td>Model:</td>       <td>MixedLM</td> <td>Dependent Variable:</td> <td>starting</td>\n",
       "</tr>\n",
       "<tr>\n",
       "  <td>No. Observations:</td>   <td>132</td>         <td>Method:</td>         <td>REML</td>  \n",
       "</tr>\n",
       "<tr>\n",
       "     <td>No. Groups:</td>      <td>66</td>          <td>Scale:</td>         <td>0.0220</td> \n",
       "</tr>\n",
       "<tr>\n",
       "  <td>Min. group size:</td>     <td>2</td>      <td>Log-Likelihood:</td>    <td>43.1666</td>\n",
       "</tr>\n",
       "<tr>\n",
       "  <td>Max. group size:</td>     <td>2</td>        <td>Converged:</td>         <td>Yes</td>  \n",
       "</tr>\n",
       "<tr>\n",
       "  <td>Mean group size:</td>    <td>2.0</td>            <td></td>               <td></td>    \n",
       "</tr>\n",
       "</table>\n",
       "<table class=\"simpletable\">\n",
       "<tr>\n",
       "        <td></td>        <th>Coef.</th> <th>Std.Err.</th>    <th>z</th>   <th>P>|z|</th> <th>[0.025</th> <th>0.975]</th>\n",
       "</tr>\n",
       "<tr>\n",
       "  <th>Intercept</th>     <td>0.551</td>   <td>0.021</td>  <td>26.433</td> <td>0.000</td>  <td>0.510</td>  <td>0.592</td>\n",
       "</tr>\n",
       "<tr>\n",
       "  <th>self_other</th>   <td>-0.053</td>   <td>0.026</td>  <td>-2.042</td> <td>0.041</td> <td>-0.104</td> <td>-0.002</td>\n",
       "</tr>\n",
       "<tr>\n",
       "  <th>pop_demeaned</th> <td>-0.022</td>   <td>0.090</td>  <td>-0.238</td> <td>0.812</td> <td>-0.199</td>  <td>0.155</td>\n",
       "</tr>\n",
       "<tr>\n",
       "  <th>Group Var</th>     <td>0.007</td>   <td>0.030</td>     <td></td>      <td></td>       <td></td>       <td></td>   \n",
       "</tr>\n",
       "</table>"
      ],
      "text/plain": [
       "<class 'statsmodels.iolib.summary2.Summary'>\n",
       "\"\"\"\n",
       "         Mixed Linear Model Regression Results\n",
       "=======================================================\n",
       "Model:             MixedLM Dependent Variable: starting\n",
       "No. Observations:  132     Method:             REML    \n",
       "No. Groups:        66      Scale:              0.0220  \n",
       "Min. group size:   2       Log-Likelihood:     43.1666 \n",
       "Max. group size:   2       Converged:          Yes     \n",
       "Mean group size:   2.0                                 \n",
       "-------------------------------------------------------\n",
       "             Coef.  Std.Err.   z    P>|z| [0.025 0.975]\n",
       "-------------------------------------------------------\n",
       "Intercept     0.551    0.021 26.433 0.000  0.510  0.592\n",
       "self_other   -0.053    0.026 -2.042 0.041 -0.104 -0.002\n",
       "pop_demeaned -0.022    0.090 -0.238 0.812 -0.199  0.155\n",
       "Group Var     0.007    0.030                           \n",
       "=======================================================\n",
       "\n",
       "\"\"\""
      ]
     },
     "execution_count": 101,
     "metadata": {},
     "output_type": "execute_result"
    }
   ],
   "source": [
    "md = smf.mixedlm(\"starting ~ self_other + pop_demeaned\", data_for_sm, groups=data_for_sm[\"participant\"])\n",
    "mdf = md.fit()\n",
    "mdf.summary()"
   ]
  },
  {
   "cell_type": "code",
   "execution_count": 102,
   "id": "be175126",
   "metadata": {},
   "outputs": [
    {
     "data": {
      "text/html": [
       "<div>\n",
       "<style scoped>\n",
       "    .dataframe tbody tr th:only-of-type {\n",
       "        vertical-align: middle;\n",
       "    }\n",
       "\n",
       "    .dataframe tbody tr th {\n",
       "        vertical-align: top;\n",
       "    }\n",
       "\n",
       "    .dataframe thead th {\n",
       "        text-align: right;\n",
       "    }\n",
       "</style>\n",
       "<table border=\"1\" class=\"dataframe\">\n",
       "  <thead>\n",
       "    <tr style=\"text-align: right;\">\n",
       "      <th></th>\n",
       "      <th>const</th>\n",
       "      <th>self_other</th>\n",
       "      <th>pop</th>\n",
       "      <th>starting</th>\n",
       "      <th>participant</th>\n",
       "      <th>pop_starting</th>\n",
       "      <th>pop_demeaned</th>\n",
       "    </tr>\n",
       "  </thead>\n",
       "  <tbody>\n",
       "    <tr>\n",
       "      <th>0</th>\n",
       "      <td>1.0</td>\n",
       "      <td>1.0</td>\n",
       "      <td>0.277778</td>\n",
       "      <td>0.592131</td>\n",
       "      <td>0</td>\n",
       "      <td>-0.314353</td>\n",
       "      <td>-0.242620</td>\n",
       "    </tr>\n",
       "    <tr>\n",
       "      <th>1</th>\n",
       "      <td>1.0</td>\n",
       "      <td>1.0</td>\n",
       "      <td>0.600000</td>\n",
       "      <td>0.777881</td>\n",
       "      <td>1</td>\n",
       "      <td>-0.177881</td>\n",
       "      <td>0.079602</td>\n",
       "    </tr>\n",
       "    <tr>\n",
       "      <th>2</th>\n",
       "      <td>1.0</td>\n",
       "      <td>1.0</td>\n",
       "      <td>0.250000</td>\n",
       "      <td>0.324754</td>\n",
       "      <td>2</td>\n",
       "      <td>-0.074754</td>\n",
       "      <td>-0.270398</td>\n",
       "    </tr>\n",
       "    <tr>\n",
       "      <th>3</th>\n",
       "      <td>1.0</td>\n",
       "      <td>1.0</td>\n",
       "      <td>0.294118</td>\n",
       "      <td>0.745758</td>\n",
       "      <td>3</td>\n",
       "      <td>-0.451640</td>\n",
       "      <td>-0.226280</td>\n",
       "    </tr>\n",
       "    <tr>\n",
       "      <th>4</th>\n",
       "      <td>1.0</td>\n",
       "      <td>1.0</td>\n",
       "      <td>0.625000</td>\n",
       "      <td>0.491811</td>\n",
       "      <td>4</td>\n",
       "      <td>0.133189</td>\n",
       "      <td>0.104602</td>\n",
       "    </tr>\n",
       "  </tbody>\n",
       "</table>\n",
       "</div>"
      ],
      "text/plain": [
       "   const  self_other       pop  starting  participant  pop_starting  \\\n",
       "0    1.0         1.0  0.277778  0.592131            0     -0.314353   \n",
       "1    1.0         1.0  0.600000  0.777881            1     -0.177881   \n",
       "2    1.0         1.0  0.250000  0.324754            2     -0.074754   \n",
       "3    1.0         1.0  0.294118  0.745758            3     -0.451640   \n",
       "4    1.0         1.0  0.625000  0.491811            4      0.133189   \n",
       "\n",
       "   pop_demeaned  \n",
       "0     -0.242620  \n",
       "1      0.079602  \n",
       "2     -0.270398  \n",
       "3     -0.226280  \n",
       "4      0.104602  "
      ]
     },
     "execution_count": 102,
     "metadata": {},
     "output_type": "execute_result"
    }
   ],
   "source": [
    "data_for_sm.head()"
   ]
  },
  {
   "cell_type": "code",
   "execution_count": 103,
   "id": "932fb39a",
   "metadata": {},
   "outputs": [],
   "source": [
    "import statsmodels"
   ]
  },
  {
   "cell_type": "code",
   "execution_count": 104,
   "id": "6688df43",
   "metadata": {},
   "outputs": [
    {
     "data": {
      "text/html": [
       "<table class=\"simpletable\">\n",
       "<tr>\n",
       "       <td></td>      <th>F Value</th> <th>Num DF</th> <th>Den DF</th>  <th>Pr > F</th>\n",
       "</tr>\n",
       "<tr>\n",
       "  <th>self_other</th> <td>4.1180</td>  <td>1.0000</td> <td>65.0000</td> <td>0.0465</td>\n",
       "</tr>\n",
       "</table>"
      ],
      "text/plain": [
       "<class 'statsmodels.iolib.summary2.Summary'>\n",
       "\"\"\"\n",
       "                 Anova\n",
       "========================================\n",
       "           F Value Num DF  Den DF Pr > F\n",
       "----------------------------------------\n",
       "self_other  4.1180 1.0000 65.0000 0.0465\n",
       "========================================\n",
       "\n",
       "\"\"\""
      ]
     },
     "execution_count": 104,
     "metadata": {},
     "output_type": "execute_result"
    }
   ],
   "source": [
    "m =statsmodels.stats.anova.AnovaRM(data_for_sm,depvar='starting',\n",
    "                                subject='participant',\n",
    "                                within=['self_other'])\n",
    "m.fit().summary()"
   ]
  },
  {
   "cell_type": "code",
   "execution_count": 105,
   "id": "fed1dd0e",
   "metadata": {},
   "outputs": [
    {
     "data": {
      "text/html": [
       "<table class=\"simpletable\">\n",
       "<tr>\n",
       "       <td></td>      <th>F Value</th> <th>Num DF</th> <th>Den DF</th>  <th>Pr > F</th>\n",
       "</tr>\n",
       "<tr>\n",
       "  <th>self_other</th> <td>4.1180</td>  <td>1.0000</td> <td>65.0000</td> <td>0.0465</td>\n",
       "</tr>\n",
       "</table>"
      ],
      "text/plain": [
       "<class 'statsmodels.iolib.summary2.Summary'>\n",
       "\"\"\"\n",
       "                 Anova\n",
       "========================================\n",
       "           F Value Num DF  Den DF Pr > F\n",
       "----------------------------------------\n",
       "self_other  4.1180 1.0000 65.0000 0.0465\n",
       "========================================\n",
       "\n",
       "\"\"\""
      ]
     },
     "execution_count": 105,
     "metadata": {},
     "output_type": "execute_result"
    }
   ],
   "source": [
    "m =statsmodels.stats.anova.AnovaRM(data_for_sm,depvar='starting',\n",
    "                                subject='participant',\n",
    "                                within=['self_other'])\n",
    "m.fit().summary()"
   ]
  },
  {
   "cell_type": "markdown",
   "id": "e489c08a",
   "metadata": {},
   "source": [
    "### Viewing Times "
   ]
  },
  {
   "cell_type": "code",
   "execution_count": 106,
   "id": "b1ba63cb",
   "metadata": {},
   "outputs": [],
   "source": [
    "rts = []\n",
    "for i in range(len(df['self_rt'])):\n",
    "    rts.append(list(df['self_rt'][i][1:])) # skip the first screen\n",
    "rts = np.array(rts)"
   ]
  },
  {
   "cell_type": "code",
   "execution_count": 109,
   "id": "77f7bcfb",
   "metadata": {},
   "outputs": [],
   "source": [
    "x = rts.flatten()/1000\n",
    "x = x[x<50]"
   ]
  },
  {
   "cell_type": "code",
   "execution_count": 110,
   "id": "b46a95e4",
   "metadata": {},
   "outputs": [
    {
     "name": "stdout",
     "output_type": "stream",
     "text": [
      "25th-percentile: 3.561s\n",
      "median: 5.409s\n",
      "75th-percentile: 7.571s\n"
     ]
    }
   ],
   "source": [
    "print(f'25th-percentile: {np.percentile(x,25)}s')\n",
    "print(f'median: {np.percentile(x,50)}s')\n",
    "print(f'75th-percentile: {np.percentile(x,75)}s')"
   ]
  }
 ],
 "metadata": {
  "kernelspec": {
   "display_name": "Python 3",
   "language": "python",
   "name": "python3"
  },
  "language_info": {
   "codemirror_mode": {
    "name": "ipython",
    "version": 3
   },
   "file_extension": ".py",
   "mimetype": "text/x-python",
   "name": "python",
   "nbconvert_exporter": "python",
   "pygments_lexer": "ipython3",
   "version": "3.9.1"
  },
  "toc": {
   "base_numbering": 1,
   "nav_menu": {},
   "number_sections": true,
   "sideBar": true,
   "skip_h1_title": false,
   "title_cell": "Table of Contents",
   "title_sidebar": "Contents",
   "toc_cell": false,
   "toc_position": {},
   "toc_section_display": true,
   "toc_window_display": true
  }
 },
 "nbformat": 4,
 "nbformat_minor": 5
}
